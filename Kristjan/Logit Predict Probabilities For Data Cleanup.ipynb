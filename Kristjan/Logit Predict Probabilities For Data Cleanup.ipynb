{
 "cells": [
  {
   "cell_type": "markdown",
   "metadata": {},
   "source": [
    "This will be a short notebook, reserved only for the Logistic Regression Model. We will use the cleaned & lemmatized dataset that we have exported as a .csv file during the preprocessing part."
   ]
  },
  {
   "cell_type": "code",
   "execution_count": 192,
   "metadata": {},
   "outputs": [],
   "source": [
    "import warnings\n",
    "warnings.simplefilter(\"ignore\", UserWarning)\n",
    "\n",
    "warnings.simplefilter(\"ignore\", FutureWarning)\n"
   ]
  },
  {
   "cell_type": "code",
   "execution_count": 2,
   "metadata": {},
   "outputs": [],
   "source": [
    "import pandas as pd\n",
    "import numpy as np\n",
    "import json\n",
    "import math\n",
    "import matplotlib.pyplot as plt\n",
    "%matplotlib inline\n",
    "\n",
    "from sklearn.model_selection import train_test_split\n",
    "from sklearn.feature_extraction.text import TfidfVectorizer\n",
    "from sklearn.linear_model import LogisticRegression\n",
    "from sklearn.metrics import accuracy_score, auc, roc_auc_score, f1_score, confusion_matrix\n",
    "\n",
    "import scipy\n",
    "from scipy.sparse import hstack\n",
    "\n",
    "# This module will be for saving the trained model for later use\n",
    "import joblib\n",
    "\n",
    "import spacy\n",
    "import re"
   ]
  },
  {
   "cell_type": "code",
   "execution_count": 166,
   "metadata": {},
   "outputs": [],
   "source": [
    "import spacy\n",
    "import re\n",
    "\n",
    "nlp = spacy.load('en_core_web_sm')\n",
    "\n",
    "\n",
    "# Should be (almost) the same as Canberk's, but slighlty faster, as not compiling the regex each time\n",
    "regex1 = re.compile(r'(http\\S+)|(#(\\w+))|(@(\\w+))|[^\\w\\s]|(\\w*\\d\\w*)')\n",
    "regex2 = re.compile(r'(\\s+)|(\\n+)')\n",
    "\n",
    "def lemmatize(article):\n",
    "    article = re.sub(regex1, '', article)\n",
    "    article = re.sub(regex2,' ', article).strip().lower()\n",
    "    \n",
    "    doc = nlp(article)\n",
    "    lemmatized_article = \" \".join([token.lemma_ for token in doc if (token.is_stop==False)]) \n",
    "    \n",
    "    return lemmatized_article"
   ]
  },
  {
   "cell_type": "code",
   "execution_count": 167,
   "metadata": {
    "scrolled": true
   },
   "outputs": [
    {
     "name": "stdout",
     "output_type": "stream",
     "text": [
      "(729, 12)\n",
      "\n",
      "1    411\n",
      "0    318\n",
      "Name: is_adverse_media, dtype: int64\n"
     ]
    }
   ],
   "source": [
    "am = pd.read_csv('../adverse_media_training.csv.zip')\n",
    "nam = pd.read_csv('../non_adverse_media_training.csv.zip')\n",
    "\n",
    "am_confirmed = am.loc[(am.label == 'am') | (am.label == 'am ')]\n",
    "am_confirmed = pd.concat([am_confirmed, nam.loc[nam.label == 'am']])\n",
    "\n",
    "nam_confirmed = nam.loc[(nam.label == 'nam') | (nam.label == 'random')]\n",
    "nam_confirmed = pd.concat([nam_confirmed, am.loc[(am.label == 'nam') | (am.label == 'random')]])\n",
    "\n",
    "am_confirmed['is_adverse_media'] = 1\n",
    "nam_confirmed['is_adverse_media'] = 0\n",
    "\n",
    "# Creating the train dataset\n",
    "data = pd.concat([am_confirmed, nam_confirmed])\n",
    "print(data.shape)\n",
    "print()\n",
    "print(data['is_adverse_media'].value_counts())\n"
   ]
  },
  {
   "cell_type": "code",
   "execution_count": 168,
   "metadata": {},
   "outputs": [],
   "source": [
    "data[\"article\"] = data[\"title\"] + \" \" + data[\"article\"]\n",
    "data[\"lemmatized\"] = data[\"article\"].apply(lemmatize)\n",
    "\n",
    "data = data.sample(frac = 1, random_state=42)\n",
    "data = data.reset_index()\n",
    "data = data.drop(['index'], axis=1)"
   ]
  },
  {
   "cell_type": "code",
   "execution_count": 169,
   "metadata": {},
   "outputs": [
    {
     "data": {
      "text/plain": [
       "((318, 13), (411, 13))"
      ]
     },
     "execution_count": 169,
     "metadata": {},
     "output_type": "execute_result"
    }
   ],
   "source": [
    "\n",
    "data[data.is_adverse_media == 0].shape, data[data.is_adverse_media == 1].shape"
   ]
  },
  {
   "cell_type": "code",
   "execution_count": 170,
   "metadata": {},
   "outputs": [],
   "source": [
    "orig_df = data.copy()\n",
    "\n",
    "orig_df['proba0'] = 0.0\n",
    "orig_df['proba1'] = 0.0"
   ]
  },
  {
   "cell_type": "code",
   "execution_count": 171,
   "metadata": {},
   "outputs": [
    {
     "name": "stdout",
     "output_type": "stream",
     "text": [
      "validation set 37\n",
      "has 20 am-s\n",
      "validation set 37\n",
      "has 19 am-s\n",
      "validation set 37\n",
      "has 23 am-s\n",
      "validation set 37\n",
      "has 22 am-s\n",
      "validation set 37\n",
      "has 17 am-s\n",
      "validation set 37\n",
      "has 23 am-s\n",
      "validation set 37\n",
      "has 21 am-s\n",
      "validation set 37\n",
      "has 24 am-s\n",
      "validation set 37\n",
      "has 20 am-s\n",
      "validation set 36\n",
      "has 22 am-s\n",
      "validation set 36\n",
      "has 21 am-s\n",
      "validation set 36\n",
      "has 25 am-s\n",
      "validation set 36\n",
      "has 25 am-s\n",
      "validation set 36\n",
      "has 14 am-s\n",
      "validation set 36\n",
      "has 16 am-s\n",
      "validation set 36\n",
      "has 17 am-s\n",
      "validation set 36\n",
      "has 18 am-s\n",
      "validation set 36\n",
      "has 24 am-s\n",
      "validation set 36\n",
      "has 21 am-s\n",
      "validation set 36\n",
      "has 19 am-s\n"
     ]
    }
   ],
   "source": [
    "import pandas as pd\n",
    "from sklearn.model_selection import KFold \n",
    " \n",
    "#Cross validation\n",
    " \n",
    "k = 20\n",
    "kf = KFold(n_splits=k, random_state=42, shuffle=True)\n",
    " \n",
    "for train_index , test_index in kf.split(data):\n",
    "    x_train , x_val = data.iloc[train_index,:].lemmatized, data.iloc[test_index,:].lemmatized\n",
    "    y_train , y_val = data['is_adverse_media'][train_index], data['is_adverse_media'][test_index]\n",
    "    print(f'validation set {len(y_val)}')\n",
    "    print(f'has {sum(y_val)} am-s')\n",
    "    ngram_vectorizer = TfidfVectorizer(max_features=40000,\n",
    "                             min_df=5, \n",
    "                             max_df=0.5, \n",
    "                             analyzer='word', \n",
    "                             stop_words='english', \n",
    "                             ngram_range=(1, 3))\n",
    "    ngram_vectorizer.fit(x_train)\n",
    "    \n",
    "    tfidf_train = ngram_vectorizer.transform(x_train)\n",
    "    tfidf_validation = ngram_vectorizer.transform(x_val)\n",
    "    \n",
    "    lr = LogisticRegression(solver='sag', random_state=42)\n",
    "    lr.fit(tfidf_train, y_train)\n",
    "    \n",
    "    probabilities_with_lemmatized_articles = np.append(lr.predict_proba(tfidf_validation), x_val.to_numpy().reshape((len(x_val), 1)), axis=1)\n",
    "\n",
    "    proba_df = pd.DataFrame(probabilities_with_lemmatized_articles, columns= ['proba0', 'proba1', 'lemmatized'])\n",
    "\n",
    "    for i in range(len(proba_df)):\n",
    "        current_proba = proba_df.iloc[i,:]\n",
    "        orig_df.loc[orig_df.lemmatized == current_proba.lemmatized, 'proba0'] = current_proba['proba0']\n",
    "        orig_df.loc[orig_df.lemmatized == current_proba.lemmatized, 'proba1'] = current_proba['proba1']\n"
   ]
  },
  {
   "cell_type": "code",
   "execution_count": 172,
   "metadata": {},
   "outputs": [],
   "source": [
    "orig_df.to_csv('../original_training_data_with_probabilities_from_logit_model.csv', index=False)"
   ]
  },
  {
   "cell_type": "code",
   "execution_count": 173,
   "metadata": {},
   "outputs": [
    {
     "data": {
      "text/html": [
       "<div>\n",
       "<style scoped>\n",
       "    .dataframe tbody tr th:only-of-type {\n",
       "        vertical-align: middle;\n",
       "    }\n",
       "\n",
       "    .dataframe tbody tr th {\n",
       "        vertical-align: top;\n",
       "    }\n",
       "\n",
       "    .dataframe thead th {\n",
       "        text-align: right;\n",
       "    }\n",
       "</style>\n",
       "<table border=\"1\" class=\"dataframe\">\n",
       "  <thead>\n",
       "    <tr style=\"text-align: right;\">\n",
       "      <th></th>\n",
       "      <th>source</th>\n",
       "      <th>entity_name</th>\n",
       "      <th>entity_type</th>\n",
       "      <th>url</th>\n",
       "      <th>article</th>\n",
       "      <th>full_response</th>\n",
       "      <th>label</th>\n",
       "      <th>explanation</th>\n",
       "      <th>assessor</th>\n",
       "      <th>comment</th>\n",
       "      <th>title</th>\n",
       "      <th>is_adverse_media</th>\n",
       "      <th>lemmatized</th>\n",
       "      <th>proba0</th>\n",
       "      <th>proba1</th>\n",
       "    </tr>\n",
       "  </thead>\n",
       "  <tbody>\n",
       "  </tbody>\n",
       "</table>\n",
       "</div>"
      ],
      "text/plain": [
       "Empty DataFrame\n",
       "Columns: [source, entity_name, entity_type, url, article, full_response, label, explanation, assessor, comment, title, is_adverse_media, lemmatized, proba0, proba1]\n",
       "Index: []"
      ]
     },
     "execution_count": 173,
     "metadata": {},
     "output_type": "execute_result"
    }
   ],
   "source": [
    "orig_df[orig_df['proba0'] == 0.0]"
   ]
  },
  {
   "cell_type": "code",
   "execution_count": 157,
   "metadata": {},
   "outputs": [
    {
     "name": "stdout",
     "output_type": "stream",
     "text": [
      "  adding: ../original_training_data_with_probabilities_from_logit_model.csv (deflated 82%)\n"
     ]
    }
   ],
   "source": [
    "!zip ../original_training_data_with_probabilities_from_logit_model.csv.zip ../original_training_data_with_probabilities_from_logit_model.csv"
   ]
  },
  {
   "cell_type": "code",
   "execution_count": 180,
   "metadata": {},
   "outputs": [
    {
     "data": {
      "text/html": [
       "<div>\n",
       "<style scoped>\n",
       "    .dataframe tbody tr th:only-of-type {\n",
       "        vertical-align: middle;\n",
       "    }\n",
       "\n",
       "    .dataframe tbody tr th {\n",
       "        vertical-align: top;\n",
       "    }\n",
       "\n",
       "    .dataframe thead th {\n",
       "        text-align: right;\n",
       "    }\n",
       "</style>\n",
       "<table border=\"1\" class=\"dataframe\">\n",
       "  <thead>\n",
       "    <tr style=\"text-align: right;\">\n",
       "      <th></th>\n",
       "      <th>is_adverse_media</th>\n",
       "      <th>proba0</th>\n",
       "      <th>proba1</th>\n",
       "    </tr>\n",
       "  </thead>\n",
       "  <tbody>\n",
       "    <tr>\n",
       "      <th>count</th>\n",
       "      <td>729.000000</td>\n",
       "      <td>729.000000</td>\n",
       "      <td>729.000000</td>\n",
       "    </tr>\n",
       "    <tr>\n",
       "      <th>mean</th>\n",
       "      <td>0.563786</td>\n",
       "      <td>0.434263</td>\n",
       "      <td>0.565737</td>\n",
       "    </tr>\n",
       "    <tr>\n",
       "      <th>std</th>\n",
       "      <td>0.496255</td>\n",
       "      <td>0.225806</td>\n",
       "      <td>0.225806</td>\n",
       "    </tr>\n",
       "    <tr>\n",
       "      <th>min</th>\n",
       "      <td>0.000000</td>\n",
       "      <td>0.065126</td>\n",
       "      <td>0.070439</td>\n",
       "    </tr>\n",
       "    <tr>\n",
       "      <th>25%</th>\n",
       "      <td>0.000000</td>\n",
       "      <td>0.231254</td>\n",
       "      <td>0.361939</td>\n",
       "    </tr>\n",
       "    <tr>\n",
       "      <th>50%</th>\n",
       "      <td>1.000000</td>\n",
       "      <td>0.392127</td>\n",
       "      <td>0.607873</td>\n",
       "    </tr>\n",
       "    <tr>\n",
       "      <th>75%</th>\n",
       "      <td>1.000000</td>\n",
       "      <td>0.638061</td>\n",
       "      <td>0.768746</td>\n",
       "    </tr>\n",
       "    <tr>\n",
       "      <th>max</th>\n",
       "      <td>1.000000</td>\n",
       "      <td>0.929561</td>\n",
       "      <td>0.934874</td>\n",
       "    </tr>\n",
       "  </tbody>\n",
       "</table>\n",
       "</div>"
      ],
      "text/plain": [
       "       is_adverse_media      proba0      proba1\n",
       "count        729.000000  729.000000  729.000000\n",
       "mean           0.563786    0.434263    0.565737\n",
       "std            0.496255    0.225806    0.225806\n",
       "min            0.000000    0.065126    0.070439\n",
       "25%            0.000000    0.231254    0.361939\n",
       "50%            1.000000    0.392127    0.607873\n",
       "75%            1.000000    0.638061    0.768746\n",
       "max            1.000000    0.929561    0.934874"
      ]
     },
     "execution_count": 180,
     "metadata": {},
     "output_type": "execute_result"
    }
   ],
   "source": [
    "dff = pd.read_csv('../original_training_data_with_probabilities_from_logit_model.csv.zip')\n",
    "\n",
    "\n",
    "dff.describe()"
   ]
  },
  {
   "cell_type": "code",
   "execution_count": 194,
   "metadata": {},
   "outputs": [
    {
     "data": {
      "text/plain": [
       "<matplotlib.legend.Legend at 0x132a332b0>"
      ]
     },
     "execution_count": 194,
     "metadata": {},
     "output_type": "execute_result"
    },
    {
     "data": {
      "image/png": "[encoded data removed]",
      "text/plain": [
       "<Figure size 1152x432 with 1 Axes>"
      ]
     },
     "metadata": {
      "needs_background": "light"
     },
     "output_type": "display_data"
    }
   ],
   "source": [
    "import seaborn as sns\n",
    "import matplotlib.pyplot as plt\n",
    "\n",
    "plt.figure(figsize=(16, 6))\n",
    "df_pred = pd.DataFrame(data={'y_actual': dff['is_adverse_media'], 'y_pred': dff['proba1']})\n",
    "msk = df_pred['y_actual'] == 1\n",
    "sns.distplot(df_pred.loc[~msk, 'y_pred'], label='non adverse media', kde=False)\n",
    "sns.distplot(df_pred.loc[msk, 'y_pred'], label='adverse media', kde=False)\n",
    "plt.legend()"
   ]
  },
  {
   "cell_type": "code",
   "execution_count": null,
   "metadata": {},
   "outputs": [],
   "source": []
  }
 ],
 "metadata": {
  "kernelspec": {
   "display_name": "Python 3",
   "language": "python",
   "name": "python3"
  },
  "language_info": {
   "codemirror_mode": {
    "name": "ipython",
    "version": 3
   },
   "file_extension": ".py",
   "mimetype": "text/x-python",
   "name": "python",
   "nbconvert_exporter": "python",
   "pygments_lexer": "ipython3",
   "version": "3.8.2"
  }
 },
 "nbformat": 4,
 "nbformat_minor": 4
}
