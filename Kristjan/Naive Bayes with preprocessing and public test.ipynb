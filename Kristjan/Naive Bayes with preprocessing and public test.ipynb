{
 "cells": [
  {
   "cell_type": "code",
   "execution_count": 1,
   "metadata": {},
   "outputs": [],
   "source": [
    "import pandas as pd\n",
    "from sklearn.model_selection import train_test_split\n",
    "from sklearn.feature_extraction.text import TfidfVectorizer\n",
    "import numpy as np\n",
    "import matplotlib.pyplot as plt\n",
    "%matplotlib inline\n",
    "\n",
    "from sklearn.model_selection import train_test_split, StratifiedKFold, cross_val_score\n",
    "from sklearn.feature_extraction.text import TfidfVectorizer\n",
    "from sklearn.naive_bayes import MultinomialNB\n",
    "from sklearn.metrics import accuracy_score, auc, roc_auc_score, roc_curve, f1_score, confusion_matrix\n",
    "import spacy\n",
    "import re"
   ]
  },
  {
   "cell_type": "code",
   "execution_count": 2,
   "metadata": {},
   "outputs": [],
   "source": [
    "nlp = spacy.load('en_core_web_sm', disable=['parser', 'ner'])\n",
    "\n",
    "# The regex below can be modified later on.\n",
    "def lemmatize(article):\n",
    "    article = re.sub(r'http\\S+', '', article)\n",
    "    article = re.sub(r\"#(\\w+)\", '', article)\n",
    "    article = re.sub(r\"@(\\w+)\", '', article)\n",
    "    article = re.sub(r'[^\\w\\s]', '', article)\n",
    "    article = re.sub(r'\\w*\\d\\w*','', article)\n",
    "    article = re.sub(' +',' ', article)\n",
    "    article = article.strip().lower()\n",
    "    \n",
    "    doc = nlp(article)\n",
    "    lemmatized_article = \" \".join([token.lemma_ for token in doc if (token.is_stop==False)]) \n",
    "    \n",
    "    return lemmatized_article"
   ]
  },
  {
   "cell_type": "code",
   "execution_count": 3,
   "metadata": {},
   "outputs": [
    {
     "name": "stdout",
     "output_type": "stream",
     "text": [
      "(729, 11)\n",
      "\n",
      "1    411\n",
      "0    318\n",
      "Name: label, dtype: int64\n"
     ]
    }
   ],
   "source": [
    "am = pd.read_csv('../adverse_media_training.csv.zip')\n",
    "nam = pd.read_csv('../non_adverse_media_training.csv.zip')\n",
    "\n",
    "am_confirmed = am.loc[(am.label == 'am') | (am.label == 'am ')]\n",
    "am_confirmed = pd.concat([am_confirmed, nam.loc[nam.label == 'am']])\n",
    "\n",
    "nam_confirmed = nam.loc[(nam.label == 'nam') | (nam.label == 'random')]\n",
    "nam_confirmed = pd.concat([nam_confirmed, am.loc[(am.label == 'nam') | (am.label == 'random')]])\n",
    "\n",
    "am_confirmed['label'] = 1\n",
    "nam_confirmed['label'] = 0\n",
    "\n",
    "# Creating the train dataset\n",
    "data = pd.concat([am_confirmed, nam_confirmed])\n",
    "print(data.shape)\n",
    "print()\n",
    "print(data['label'].value_counts())"
   ]
  },
  {
   "cell_type": "code",
   "execution_count": 4,
   "metadata": {},
   "outputs": [],
   "source": [
    "data[\"article\"] = data[\"title\"] + \" \" + data[\"article\"]\n",
    "data.drop([\"title\"], axis =1)\n",
    "\n",
    "data = data[['article', 'label']].copy()\n",
    "data[\"article\"] = data[\"article\"].apply(lemmatize)\n",
    "\n",
    "\n",
    "data = data.sample(frac = 1, random_state=42)\n",
    "data = data.reset_index()\n",
    "data = data.drop(['index'], axis=1)"
   ]
  },
  {
   "cell_type": "code",
   "execution_count": 5,
   "metadata": {},
   "outputs": [
    {
     "name": "stdout",
     "output_type": "stream",
     "text": [
      "(656,) (73,) (656,) (73,)\n"
     ]
    }
   ],
   "source": [
    "df = data.copy()\n",
    "\n",
    "x_train, x_val, y_train, y_val = train_test_split(df['article'], \n",
    "                                                    df['label'], \n",
    "                                                    test_size=0.1, \n",
    "                                                    random_state=42,\n",
    "                                                    stratify=df['label'])\n",
    "\n",
    "print(x_train.shape, x_val.shape, y_train.shape, y_val.shape)"
   ]
  },
  {
   "cell_type": "code",
   "execution_count": 6,
   "metadata": {},
   "outputs": [
    {
     "name": "stdout",
     "output_type": "stream",
     "text": [
      "TfidfVectorizer(max_df=0.5, max_features=40000, min_df=5, ngram_range=(1, 3),\n",
      "                stop_words='english')\n"
     ]
    }
   ],
   "source": [
    "ngram_vectorizer = TfidfVectorizer(max_features=40000,\n",
    "                             min_df=5, \n",
    "                             max_df=0.5, \n",
    "                             analyzer='word', \n",
    "                             stop_words='english', \n",
    "                             ngram_range=(1, 3))\n",
    "print(ngram_vectorizer)"
   ]
  },
  {
   "cell_type": "code",
   "execution_count": 7,
   "metadata": {},
   "outputs": [],
   "source": [
    "import random\n",
    "ngram_vectorizer.fit(x_train)\n",
    "features = ngram_vectorizer.get_feature_names()"
   ]
  },
  {
   "cell_type": "code",
   "execution_count": 8,
   "metadata": {},
   "outputs": [],
   "source": [
    "tfidf_train = ngram_vectorizer.transform(x_train)\n",
    "tfidf_validation = ngram_vectorizer.transform(x_val)"
   ]
  },
  {
   "cell_type": "code",
   "execution_count": 9,
   "metadata": {},
   "outputs": [
    {
     "data": {
      "text/html": [
       "<div>\n",
       "<style scoped>\n",
       "    .dataframe tbody tr th:only-of-type {\n",
       "        vertical-align: middle;\n",
       "    }\n",
       "\n",
       "    .dataframe tbody tr th {\n",
       "        vertical-align: top;\n",
       "    }\n",
       "\n",
       "    .dataframe thead th {\n",
       "        text-align: right;\n",
       "    }\n",
       "</style>\n",
       "<table border=\"1\" class=\"dataframe\">\n",
       "  <thead>\n",
       "    <tr style=\"text-align: right;\">\n",
       "      <th></th>\n",
       "      <th>abandon</th>\n",
       "      <th>abdul</th>\n",
       "      <th>abdullah</th>\n",
       "      <th>abide</th>\n",
       "      <th>ability</th>\n",
       "      <th>able</th>\n",
       "      <th>able use</th>\n",
       "      <th>abolish</th>\n",
       "      <th>abramovich</th>\n",
       "      <th>abroad</th>\n",
       "      <th>...</th>\n",
       "      <th>zealand</th>\n",
       "      <th>zero</th>\n",
       "      <th>zero tolerance</th>\n",
       "      <th>zetas</th>\n",
       "      <th>zimbabwe</th>\n",
       "      <th>zimbabwe anticorruption</th>\n",
       "      <th>zimbabwe anticorruption commission</th>\n",
       "      <th>zimbabwean</th>\n",
       "      <th>zimbabwes</th>\n",
       "      <th>zone</th>\n",
       "    </tr>\n",
       "  </thead>\n",
       "  <tbody>\n",
       "    <tr>\n",
       "      <th>0</th>\n",
       "      <td>0.0</td>\n",
       "      <td>0.0</td>\n",
       "      <td>0.0</td>\n",
       "      <td>0.0</td>\n",
       "      <td>0.000000</td>\n",
       "      <td>0.000000</td>\n",
       "      <td>0.0</td>\n",
       "      <td>0.0</td>\n",
       "      <td>0.0</td>\n",
       "      <td>0.0</td>\n",
       "      <td>...</td>\n",
       "      <td>0.0</td>\n",
       "      <td>0.0</td>\n",
       "      <td>0.0</td>\n",
       "      <td>0.0</td>\n",
       "      <td>0.084574</td>\n",
       "      <td>0.105486</td>\n",
       "      <td>0.105486</td>\n",
       "      <td>0.187405</td>\n",
       "      <td>0.000000</td>\n",
       "      <td>0.0</td>\n",
       "    </tr>\n",
       "    <tr>\n",
       "      <th>1</th>\n",
       "      <td>0.0</td>\n",
       "      <td>0.0</td>\n",
       "      <td>0.0</td>\n",
       "      <td>0.0</td>\n",
       "      <td>0.000000</td>\n",
       "      <td>0.000000</td>\n",
       "      <td>0.0</td>\n",
       "      <td>0.0</td>\n",
       "      <td>0.0</td>\n",
       "      <td>0.0</td>\n",
       "      <td>...</td>\n",
       "      <td>0.0</td>\n",
       "      <td>0.0</td>\n",
       "      <td>0.0</td>\n",
       "      <td>0.0</td>\n",
       "      <td>0.000000</td>\n",
       "      <td>0.000000</td>\n",
       "      <td>0.000000</td>\n",
       "      <td>0.000000</td>\n",
       "      <td>0.000000</td>\n",
       "      <td>0.0</td>\n",
       "    </tr>\n",
       "    <tr>\n",
       "      <th>2</th>\n",
       "      <td>0.0</td>\n",
       "      <td>0.0</td>\n",
       "      <td>0.0</td>\n",
       "      <td>0.0</td>\n",
       "      <td>0.000000</td>\n",
       "      <td>0.000000</td>\n",
       "      <td>0.0</td>\n",
       "      <td>0.0</td>\n",
       "      <td>0.0</td>\n",
       "      <td>0.0</td>\n",
       "      <td>...</td>\n",
       "      <td>0.0</td>\n",
       "      <td>0.0</td>\n",
       "      <td>0.0</td>\n",
       "      <td>0.0</td>\n",
       "      <td>0.000000</td>\n",
       "      <td>0.000000</td>\n",
       "      <td>0.000000</td>\n",
       "      <td>0.000000</td>\n",
       "      <td>0.000000</td>\n",
       "      <td>0.0</td>\n",
       "    </tr>\n",
       "    <tr>\n",
       "      <th>3</th>\n",
       "      <td>0.0</td>\n",
       "      <td>0.0</td>\n",
       "      <td>0.0</td>\n",
       "      <td>0.0</td>\n",
       "      <td>0.000000</td>\n",
       "      <td>0.015693</td>\n",
       "      <td>0.0</td>\n",
       "      <td>0.0</td>\n",
       "      <td>0.0</td>\n",
       "      <td>0.0</td>\n",
       "      <td>...</td>\n",
       "      <td>0.0</td>\n",
       "      <td>0.0</td>\n",
       "      <td>0.0</td>\n",
       "      <td>0.0</td>\n",
       "      <td>0.000000</td>\n",
       "      <td>0.000000</td>\n",
       "      <td>0.000000</td>\n",
       "      <td>0.000000</td>\n",
       "      <td>0.000000</td>\n",
       "      <td>0.0</td>\n",
       "    </tr>\n",
       "    <tr>\n",
       "      <th>4</th>\n",
       "      <td>0.0</td>\n",
       "      <td>0.0</td>\n",
       "      <td>0.0</td>\n",
       "      <td>0.0</td>\n",
       "      <td>0.000000</td>\n",
       "      <td>0.039327</td>\n",
       "      <td>0.0</td>\n",
       "      <td>0.0</td>\n",
       "      <td>0.0</td>\n",
       "      <td>0.0</td>\n",
       "      <td>...</td>\n",
       "      <td>0.0</td>\n",
       "      <td>0.0</td>\n",
       "      <td>0.0</td>\n",
       "      <td>0.0</td>\n",
       "      <td>0.000000</td>\n",
       "      <td>0.000000</td>\n",
       "      <td>0.000000</td>\n",
       "      <td>0.000000</td>\n",
       "      <td>0.000000</td>\n",
       "      <td>0.0</td>\n",
       "    </tr>\n",
       "    <tr>\n",
       "      <th>5</th>\n",
       "      <td>0.0</td>\n",
       "      <td>0.0</td>\n",
       "      <td>0.0</td>\n",
       "      <td>0.0</td>\n",
       "      <td>0.000000</td>\n",
       "      <td>0.000000</td>\n",
       "      <td>0.0</td>\n",
       "      <td>0.0</td>\n",
       "      <td>0.0</td>\n",
       "      <td>0.0</td>\n",
       "      <td>...</td>\n",
       "      <td>0.0</td>\n",
       "      <td>0.0</td>\n",
       "      <td>0.0</td>\n",
       "      <td>0.0</td>\n",
       "      <td>0.000000</td>\n",
       "      <td>0.000000</td>\n",
       "      <td>0.000000</td>\n",
       "      <td>0.000000</td>\n",
       "      <td>0.000000</td>\n",
       "      <td>0.0</td>\n",
       "    </tr>\n",
       "    <tr>\n",
       "      <th>6</th>\n",
       "      <td>0.0</td>\n",
       "      <td>0.0</td>\n",
       "      <td>0.0</td>\n",
       "      <td>0.0</td>\n",
       "      <td>0.138578</td>\n",
       "      <td>0.056970</td>\n",
       "      <td>0.0</td>\n",
       "      <td>0.0</td>\n",
       "      <td>0.0</td>\n",
       "      <td>0.0</td>\n",
       "      <td>...</td>\n",
       "      <td>0.0</td>\n",
       "      <td>0.0</td>\n",
       "      <td>0.0</td>\n",
       "      <td>0.0</td>\n",
       "      <td>0.000000</td>\n",
       "      <td>0.000000</td>\n",
       "      <td>0.000000</td>\n",
       "      <td>0.000000</td>\n",
       "      <td>0.000000</td>\n",
       "      <td>0.0</td>\n",
       "    </tr>\n",
       "    <tr>\n",
       "      <th>7</th>\n",
       "      <td>0.0</td>\n",
       "      <td>0.0</td>\n",
       "      <td>0.0</td>\n",
       "      <td>0.0</td>\n",
       "      <td>0.000000</td>\n",
       "      <td>0.000000</td>\n",
       "      <td>0.0</td>\n",
       "      <td>0.0</td>\n",
       "      <td>0.0</td>\n",
       "      <td>0.0</td>\n",
       "      <td>...</td>\n",
       "      <td>0.0</td>\n",
       "      <td>0.0</td>\n",
       "      <td>0.0</td>\n",
       "      <td>0.0</td>\n",
       "      <td>0.038984</td>\n",
       "      <td>0.000000</td>\n",
       "      <td>0.000000</td>\n",
       "      <td>0.172767</td>\n",
       "      <td>0.136481</td>\n",
       "      <td>0.0</td>\n",
       "    </tr>\n",
       "    <tr>\n",
       "      <th>8</th>\n",
       "      <td>0.0</td>\n",
       "      <td>0.0</td>\n",
       "      <td>0.0</td>\n",
       "      <td>0.0</td>\n",
       "      <td>0.000000</td>\n",
       "      <td>0.000000</td>\n",
       "      <td>0.0</td>\n",
       "      <td>0.0</td>\n",
       "      <td>0.0</td>\n",
       "      <td>0.0</td>\n",
       "      <td>...</td>\n",
       "      <td>0.0</td>\n",
       "      <td>0.0</td>\n",
       "      <td>0.0</td>\n",
       "      <td>0.0</td>\n",
       "      <td>0.000000</td>\n",
       "      <td>0.000000</td>\n",
       "      <td>0.000000</td>\n",
       "      <td>0.000000</td>\n",
       "      <td>0.000000</td>\n",
       "      <td>0.0</td>\n",
       "    </tr>\n",
       "    <tr>\n",
       "      <th>9</th>\n",
       "      <td>0.0</td>\n",
       "      <td>0.0</td>\n",
       "      <td>0.0</td>\n",
       "      <td>0.0</td>\n",
       "      <td>0.000000</td>\n",
       "      <td>0.000000</td>\n",
       "      <td>0.0</td>\n",
       "      <td>0.0</td>\n",
       "      <td>0.0</td>\n",
       "      <td>0.0</td>\n",
       "      <td>...</td>\n",
       "      <td>0.0</td>\n",
       "      <td>0.0</td>\n",
       "      <td>0.0</td>\n",
       "      <td>0.0</td>\n",
       "      <td>0.000000</td>\n",
       "      <td>0.000000</td>\n",
       "      <td>0.000000</td>\n",
       "      <td>0.000000</td>\n",
       "      <td>0.000000</td>\n",
       "      <td>0.0</td>\n",
       "    </tr>\n",
       "  </tbody>\n",
       "</table>\n",
       "<p>10 rows × 6863 columns</p>\n",
       "</div>"
      ],
      "text/plain": [
       "   abandon  abdul  abdullah  abide   ability      able  able use  abolish  \\\n",
       "0      0.0    0.0       0.0    0.0  0.000000  0.000000       0.0      0.0   \n",
       "1      0.0    0.0       0.0    0.0  0.000000  0.000000       0.0      0.0   \n",
       "2      0.0    0.0       0.0    0.0  0.000000  0.000000       0.0      0.0   \n",
       "3      0.0    0.0       0.0    0.0  0.000000  0.015693       0.0      0.0   \n",
       "4      0.0    0.0       0.0    0.0  0.000000  0.039327       0.0      0.0   \n",
       "5      0.0    0.0       0.0    0.0  0.000000  0.000000       0.0      0.0   \n",
       "6      0.0    0.0       0.0    0.0  0.138578  0.056970       0.0      0.0   \n",
       "7      0.0    0.0       0.0    0.0  0.000000  0.000000       0.0      0.0   \n",
       "8      0.0    0.0       0.0    0.0  0.000000  0.000000       0.0      0.0   \n",
       "9      0.0    0.0       0.0    0.0  0.000000  0.000000       0.0      0.0   \n",
       "\n",
       "   abramovich  abroad  ...  zealand  zero  zero tolerance  zetas  zimbabwe  \\\n",
       "0         0.0     0.0  ...      0.0   0.0             0.0    0.0  0.084574   \n",
       "1         0.0     0.0  ...      0.0   0.0             0.0    0.0  0.000000   \n",
       "2         0.0     0.0  ...      0.0   0.0             0.0    0.0  0.000000   \n",
       "3         0.0     0.0  ...      0.0   0.0             0.0    0.0  0.000000   \n",
       "4         0.0     0.0  ...      0.0   0.0             0.0    0.0  0.000000   \n",
       "5         0.0     0.0  ...      0.0   0.0             0.0    0.0  0.000000   \n",
       "6         0.0     0.0  ...      0.0   0.0             0.0    0.0  0.000000   \n",
       "7         0.0     0.0  ...      0.0   0.0             0.0    0.0  0.038984   \n",
       "8         0.0     0.0  ...      0.0   0.0             0.0    0.0  0.000000   \n",
       "9         0.0     0.0  ...      0.0   0.0             0.0    0.0  0.000000   \n",
       "\n",
       "   zimbabwe anticorruption  zimbabwe anticorruption commission  zimbabwean  \\\n",
       "0                 0.105486                            0.105486    0.187405   \n",
       "1                 0.000000                            0.000000    0.000000   \n",
       "2                 0.000000                            0.000000    0.000000   \n",
       "3                 0.000000                            0.000000    0.000000   \n",
       "4                 0.000000                            0.000000    0.000000   \n",
       "5                 0.000000                            0.000000    0.000000   \n",
       "6                 0.000000                            0.000000    0.000000   \n",
       "7                 0.000000                            0.000000    0.172767   \n",
       "8                 0.000000                            0.000000    0.000000   \n",
       "9                 0.000000                            0.000000    0.000000   \n",
       "\n",
       "   zimbabwes  zone  \n",
       "0   0.000000   0.0  \n",
       "1   0.000000   0.0  \n",
       "2   0.000000   0.0  \n",
       "3   0.000000   0.0  \n",
       "4   0.000000   0.0  \n",
       "5   0.000000   0.0  \n",
       "6   0.000000   0.0  \n",
       "7   0.136481   0.0  \n",
       "8   0.000000   0.0  \n",
       "9   0.000000   0.0  \n",
       "\n",
       "[10 rows x 6863 columns]"
      ]
     },
     "execution_count": 9,
     "metadata": {},
     "output_type": "execute_result"
    }
   ],
   "source": [
    "doc_array = tfidf_train.toarray()\n",
    "frequency_matrix = pd.DataFrame(doc_array, columns = features)\n",
    "frequency_matrix.head(10)"
   ]
  },
  {
   "cell_type": "code",
   "execution_count": 10,
   "metadata": {},
   "outputs": [],
   "source": [
    "def get_auc_CV(model):\n",
    "    \"\"\"\n",
    "    Return the average AUC score from cross-validation.\n",
    "    \"\"\"\n",
    "    # Set KFold to shuffle data before the split\n",
    "    kf = StratifiedKFold(5, shuffle=True, random_state=1)\n",
    "\n",
    "    # Get AUC scores\n",
    "    auc = cross_val_score(model, tfidf_train, y_train, scoring=\"roc_auc\", cv=kf)\n",
    "\n",
    "    return auc.mean()\n"
   ]
  },
  {
   "cell_type": "code",
   "execution_count": 11,
   "metadata": {},
   "outputs": [
    {
     "name": "stdout",
     "output_type": "stream",
     "text": [
      "Best alpha:  0.1\n"
     ]
    },
    {
     "data": {
      "image/png": "[encoded data removed]",
      "text/plain": [
       "<Figure size 432x288 with 1 Axes>"
      ]
     },
     "metadata": {
      "needs_background": "light"
     },
     "output_type": "display_data"
    }
   ],
   "source": [
    "res = pd.Series([get_auc_CV(MultinomialNB(alpha = i))\n",
    "                 for i in np.arange(0.1, 10, 0.1)],\n",
    "                index=np.arange(0.1, 10, 0.1))\n",
    "\n",
    "best_alpha = np.round(res.idxmax(), 2)\n",
    "print('Best alpha: ', best_alpha)\n",
    "\n",
    "plt.plot(res)\n",
    "plt.title('AUC vs. Alpha')\n",
    "plt.xlabel('Alpha')\n",
    "plt.ylabel('AUC')\n",
    "plt.show()"
   ]
  },
  {
   "cell_type": "code",
   "execution_count": 12,
   "metadata": {},
   "outputs": [],
   "source": [
    "def evaluate_roc(probs, y_true):\n",
    "    \"\"\"\n",
    "    - Print AUC and accuracy on the test set\n",
    "    - Plot ROC\n",
    "    @params    probs (np.array): an array of predicted probabilities with shape (len(y_true), 2)\n",
    "    @params    y_true (np.array): an array of the true values with shape (len(y_true),)\n",
    "    \"\"\"\n",
    "    preds = probs[:, 1]\n",
    "    fpr, tpr, threshold = roc_curve(y_true, preds)\n",
    "    roc_auc = auc(fpr, tpr)\n",
    "    print(f'AUC: {roc_auc:.4f}')\n",
    "       \n",
    "    # Get accuracy over the test set\n",
    "    y_pred = np.where(preds >= 0.5, 1, 0)\n",
    "    accuracy = accuracy_score(y_true, y_pred)\n",
    "    print(f'Accuracy: {accuracy*100:.2f}%')\n",
    "    \n",
    "    # Plot ROC AUC\n",
    "    plt.title('Receiver Operating Characteristic')\n",
    "    plt.plot(fpr, tpr, 'b', label = 'AUC = %0.2f' % roc_auc)\n",
    "    plt.legend(loc = 'lower right')\n",
    "    plt.plot([0, 1], [0, 1],'r--')\n",
    "    plt.xlim([0, 1])\n",
    "    plt.ylim([0, 1])\n",
    "    plt.ylabel('True Positive Rate')\n",
    "    plt.xlabel('False Positive Rate')\n",
    "    plt.show()"
   ]
  },
  {
   "cell_type": "code",
   "execution_count": 13,
   "metadata": {},
   "outputs": [
    {
     "name": "stdout",
     "output_type": "stream",
     "text": [
      "AUC: 0.9405\n",
      "Accuracy: 90.41%\n"
     ]
    },
    {
     "data": {
      "image/png": "[encoded data removed]",
      "text/plain": [
       "<Figure size 432x288 with 1 Axes>"
      ]
     },
     "metadata": {
      "needs_background": "light"
     },
     "output_type": "display_data"
    }
   ],
   "source": [
    "# Compute predicted probabilities\n",
    "nb_model = MultinomialNB(alpha=best_alpha)\n",
    "nb_model.fit(tfidf_train, y_train)\n",
    "probs = nb_model.predict_proba(tfidf_validation)\n",
    "\n",
    "# Evaluate the classifier\n",
    "evaluate_roc(probs, y_val)"
   ]
  },
  {
   "cell_type": "code",
   "execution_count": 14,
   "metadata": {},
   "outputs": [],
   "source": [
    "train_preds_nb = nb_model.predict(tfidf_train)\n",
    "val_preds_nb = nb_model.predict(tfidf_validation)\n",
    "\n",
    "train_f1_score_nb = f1_score(y_train, train_preds_nb)\n",
    "val_f1_score_nb = f1_score(y_val, val_preds_nb)\n",
    "\n",
    "train_accuracy_nb = accuracy_score(y_train, train_preds_nb)\n",
    "val_accuracy_nb = accuracy_score(y_val, val_preds_nb)"
   ]
  },
  {
   "cell_type": "code",
   "execution_count": 15,
   "metadata": {},
   "outputs": [
    {
     "name": "stdout",
     "output_type": "stream",
     "text": [
      "Prediction accuracy for naive bayes model on train data: 96.494\n",
      "Prediction accuracy for naive bayes model on validation data: 90.411\n",
      "\n",
      "F1 score for naive bayes model on train data: 96.879\n",
      "F1 score for naive bayes model on validation data: 91.954\n"
     ]
    }
   ],
   "source": [
    "print('Prediction accuracy for naive bayes model on train data:', round(train_accuracy_nb*100, 3))\n",
    "print('Prediction accuracy for naive bayes model on validation data:', round(val_accuracy_nb*100, 3))\n",
    "\n",
    "print()\n",
    "\n",
    "print('F1 score for naive bayes model on train data:', round(train_f1_score_nb*100, 3))\n",
    "print('F1 score for naive bayes model on validation data:', round(val_f1_score_nb*100, 3))"
   ]
  },
  {
   "cell_type": "markdown",
   "metadata": {},
   "source": [
    "### Last\n",
    "* Prediction accuracy for naive bayes model on train data: 96.494\n",
    "* Prediction accuracy for naive bayes model on validation data: 90.411\n",
    "\n",
    "* F1 score for naive bayes model on train data: 96.879\n",
    "* F1 score for naive bayes model on validation data: 91.954\n",
    "\n"
   ]
  },
  {
   "cell_type": "code",
   "execution_count": 21,
   "metadata": {},
   "outputs": [],
   "source": [
    "public_test = pd.read_csv('../public_test.csv')"
   ]
  },
  {
   "cell_type": "code",
   "execution_count": 22,
   "metadata": {},
   "outputs": [
    {
     "name": "stdout",
     "output_type": "stream",
     "text": [
      "/Users/kristjan.roosild/kool/MachineLearning/projekt/ut-ml-adverse-media/Kristjan\n"
     ]
    }
   ],
   "source": [
    "!pwd"
   ]
  },
  {
   "cell_type": "code",
   "execution_count": null,
   "metadata": {},
   "outputs": [],
   "source": []
  },
  {
   "cell_type": "code",
   "execution_count": 23,
   "metadata": {},
   "outputs": [],
   "source": [
    "public_test[\"article\"] = public_test[\"title\"] + \" \" + public_test[\"article\"]\n",
    "public_test = public_test.drop([\"title\"], axis =1)"
   ]
  },
  {
   "cell_type": "code",
   "execution_count": 24,
   "metadata": {},
   "outputs": [],
   "source": [
    "public_test_lemmatized = public_test[['article', 'label']].copy()\n",
    "public_test_lemmatized[\"article\"] = public_test_lemmatized[\"article\"].apply(lemmatize)\n",
    "public_test_lemmatized = public_test_lemmatized.reset_index()\n",
    "public_test_lemmatized = public_test_lemmatized.drop(['index'], axis=1)\n",
    "public_test_lemmatized\n",
    "\n",
    "tfidf_public_test = ngram_vectorizer.transform(public_test_lemmatized.article)"
   ]
  },
  {
   "cell_type": "code",
   "execution_count": 25,
   "metadata": {},
   "outputs": [
    {
     "name": "stdout",
     "output_type": "stream",
     "text": [
      "Prediction accuracy for naive bayes model on public test data: 89.937\n",
      "\n",
      "F1 score for naive bayes model on public test data: 92.0\n"
     ]
    }
   ],
   "source": [
    "public_test_preds_nb = nb_model.predict(tfidf_public_test)\n",
    "\n",
    "public_test_accuracy_nb = accuracy_score(public_test.label, public_test_preds_nb)\n",
    "\n",
    "public_test_f1_score_nb = f1_score(public_test.label, public_test_preds_nb)\n",
    "\n",
    "\n",
    "print('Prediction accuracy for naive bayes model on public test data:', round(public_test_accuracy_nb*100, 3))\n",
    "\n",
    "print()\n",
    "\n",
    "print('F1 score for naive bayes model on public test data:', round(public_test_f1_score_nb*100, 3))"
   ]
  },
  {
   "cell_type": "markdown",
   "metadata": {},
   "source": [
    "\n",
    "\n",
    "Using Karl's cleaning and lemmatization, title added to article:\n",
    "\n",
    "Prediction accuracy for naive bayes model on public test data: 90.566\n",
    "\n",
    "F1 score for naive bayes model on public test data: 92.537\n",
    "\n",
    "\n",
    "Original cleaned_lemmatized_text.csv for train and lemmatize func is :\n",
    "Prediction accuracy for naive bayes model on public test data: 91.824\n",
    "\n",
    "F1 score for naive bayes model on public test data: 93.467"
   ]
  }
 ],
 "metadata": {
  "kernelspec": {
   "display_name": "Python 3",
   "language": "python",
   "name": "python3"
  },
  "language_info": {
   "codemirror_mode": {
    "name": "ipython",
    "version": 3
   },
   "file_extension": ".py",
   "mimetype": "text/x-python",
   "name": "python",
   "nbconvert_exporter": "python",
   "pygments_lexer": "ipython3",
   "version": "3.8.2"
  }
 },
 "nbformat": 4,
 "nbformat_minor": 4
}