{
 "cells": [
  {
   "cell_type": "code",
   "execution_count": 26,
   "metadata": {},
   "outputs": [],
   "source": [
    "import pandas as pd\n",
    "from sklearn.model_selection import train_test_split\n",
    "from sklearn.feature_extraction.text import TfidfVectorizer\n",
    "import numpy as np\n",
    "import matplotlib.pyplot as plt\n",
    "%matplotlib inline\n",
    "\n",
    "from sklearn.model_selection import train_test_split, StratifiedKFold, cross_val_score\n",
    "from sklearn.feature_extraction.text import TfidfVectorizer\n",
    "from sklearn.naive_bayes import MultinomialNB\n",
    "from sklearn.metrics import accuracy_score, auc, roc_auc_score, roc_curve, f1_score, confusion_matrix\n",
    "import spacy\n",
    "import re"
   ]
  },
  {
   "cell_type": "code",
   "execution_count": 28,
   "metadata": {},
   "outputs": [],
   "source": [
    "\n",
    "nlp = spacy.load('en_core_web_sm', disable=['parser', 'ner'])\n",
    "\n",
    "\n",
    "# Should be (almost) the same as Canberk's, but slighlty faster, as not compiling the regex each time\n",
    "regex1 = re.compile(r'(http\\S+)|(#(\\w+))|(@(\\w+))|[^\\w\\s]|(\\w*\\d\\w*)')\n",
    "regex2 = re.compile(r'(\\s+)|(\\n+)')\n",
    "\n",
    "def lemmatize(article):\n",
    "    article = re.sub(regex1, '', article)\n",
    "    article = re.sub(regex2,' ', article).strip().lower()\n",
    "    \n",
    "    doc = nlp(article)\n",
    "    lemmatized_article = \" \".join([token.lemma_ for token in doc if (token.is_stop==False)]) \n",
    "    \n",
    "    return lemmatized_article"
   ]
  },
  {
   "cell_type": "code",
   "execution_count": 29,
   "metadata": {},
   "outputs": [
    {
     "name": "stdout",
     "output_type": "stream",
     "text": [
      "(729, 11)\n",
      "\n",
      "1    411\n",
      "0    318\n",
      "Name: label, dtype: int64\n"
     ]
    }
   ],
   "source": [
    "am = pd.read_csv('../adverse_media_training.csv.zip')\n",
    "nam = pd.read_csv('../non_adverse_media_training.csv.zip')\n",
    "\n",
    "am_confirmed = am.loc[(am.label == 'am') | (am.label == 'am ')]\n",
    "am_confirmed = pd.concat([am_confirmed, nam.loc[nam.label == 'am']])\n",
    "\n",
    "nam_confirmed = nam.loc[(nam.label == 'nam') | (nam.label == 'random')]\n",
    "nam_confirmed = pd.concat([nam_confirmed, am.loc[(am.label == 'nam') | (am.label == 'random')]])\n",
    "\n",
    "am_confirmed['label'] = 1\n",
    "nam_confirmed['label'] = 0\n",
    "\n",
    "# Creating the train dataset\n",
    "data = pd.concat([am_confirmed, nam_confirmed])\n",
    "print(data.shape)\n",
    "print()\n",
    "print(data['label'].value_counts())"
   ]
  },
  {
   "cell_type": "code",
   "execution_count": 30,
   "metadata": {},
   "outputs": [],
   "source": [
    "data[\"article\"] = data[\"title\"] + \" \" + data[\"article\"]\n",
    "data.drop([\"title\"], axis =1)\n",
    "\n",
    "data = data[['article', 'label']].copy()\n",
    "data[\"article\"] = data[\"article\"].apply(lemmatize)\n",
    "\n",
    "\n",
    "data = data.sample(frac = 1, random_state=42)\n",
    "data = data.reset_index()\n",
    "data = data.drop(['index'], axis=1)"
   ]
  },
  {
   "cell_type": "code",
   "execution_count": 51,
   "metadata": {},
   "outputs": [
    {
     "data": {
      "text/html": [
       "<div>\n",
       "<style scoped>\n",
       "    .dataframe tbody tr th:only-of-type {\n",
       "        vertical-align: middle;\n",
       "    }\n",
       "\n",
       "    .dataframe tbody tr th {\n",
       "        vertical-align: top;\n",
       "    }\n",
       "\n",
       "    .dataframe thead th {\n",
       "        text-align: right;\n",
       "    }\n",
       "</style>\n",
       "<table border=\"1\" class=\"dataframe\">\n",
       "  <thead>\n",
       "    <tr style=\"text-align: right;\">\n",
       "      <th></th>\n",
       "      <th>is_adverse_media</th>\n",
       "      <th>lemmatized_articles</th>\n",
       "    </tr>\n",
       "  </thead>\n",
       "  <tbody>\n",
       "    <tr>\n",
       "      <th>0</th>\n",
       "      <td>0</td>\n",
       "      <td>zimbabweans wake news agriculture minister per...</td>\n",
       "    </tr>\n",
       "    <tr>\n",
       "      <th>1</th>\n",
       "      <td>1</td>\n",
       "      <td>singapore founder singapore oil trade company ...</td>\n",
       "    </tr>\n",
       "    <tr>\n",
       "      <th>2</th>\n",
       "      <td>1</td>\n",
       "      <td>fraudster offer green tax efficient investment...</td>\n",
       "    </tr>\n",
       "    <tr>\n",
       "      <th>3</th>\n",
       "      <td>1</td>\n",
       "      <td>buenos aire reuter judicial probe possible cor...</td>\n",
       "    </tr>\n",
       "    <tr>\n",
       "      <th>4</th>\n",
       "      <td>0</td>\n",
       "      <td>ukraines constitutional court appear strike bl...</td>\n",
       "    </tr>\n",
       "    <tr>\n",
       "      <th>...</th>\n",
       "      <td>...</td>\n",
       "      <td>...</td>\n",
       "    </tr>\n",
       "    <tr>\n",
       "      <th>724</th>\n",
       "      <td>0</td>\n",
       "      <td>uk bribery act bribery act act come force july...</td>\n",
       "    </tr>\n",
       "    <tr>\n",
       "      <th>725</th>\n",
       "      <td>0</td>\n",
       "      <td>worthless book price thousand dollar amazoncom...</td>\n",
       "    </tr>\n",
       "    <tr>\n",
       "      <th>726</th>\n",
       "      <td>1</td>\n",
       "      <td>serial fraudster pretend police officer lawyer...</td>\n",
       "    </tr>\n",
       "    <tr>\n",
       "      <th>727</th>\n",
       "      <td>0</td>\n",
       "      <td>investor contact broker surprised number reque...</td>\n",
       "    </tr>\n",
       "    <tr>\n",
       "      <th>728</th>\n",
       "      <td>0</td>\n",
       "      <td>undp unodc kingdom morocco support arab antico...</td>\n",
       "    </tr>\n",
       "  </tbody>\n",
       "</table>\n",
       "<p>729 rows × 2 columns</p>\n",
       "</div>"
      ],
      "text/plain": [
       "     is_adverse_media                                lemmatized_articles\n",
       "0                   0  zimbabweans wake news agriculture minister per...\n",
       "1                   1  singapore founder singapore oil trade company ...\n",
       "2                   1  fraudster offer green tax efficient investment...\n",
       "3                   1  buenos aire reuter judicial probe possible cor...\n",
       "4                   0  ukraines constitutional court appear strike bl...\n",
       "..                ...                                                ...\n",
       "724                 0  uk bribery act bribery act act come force july...\n",
       "725                 0  worthless book price thousand dollar amazoncom...\n",
       "726                 1  serial fraudster pretend police officer lawyer...\n",
       "727                 0  investor contact broker surprised number reque...\n",
       "728                 0  undp unodc kingdom morocco support arab antico...\n",
       "\n",
       "[729 rows x 2 columns]"
      ]
     },
     "execution_count": 51,
     "metadata": {},
     "output_type": "execute_result"
    }
   ],
   "source": [
    "df = pd.read_csv('../Canberk/cleaned_lemmatized_text.csv')\n",
    "df"
   ]
  },
  {
   "cell_type": "code",
   "execution_count": 52,
   "metadata": {},
   "outputs": [
    {
     "name": "stdout",
     "output_type": "stream",
     "text": [
      "(656,) (73,) (656,) (73,)\n"
     ]
    }
   ],
   "source": [
    "#df = data.copy()\n",
    "\n",
    "x_train, x_val, y_train, y_val = train_test_split(df['lemmatized_articles'], \n",
    "                                                    df['is_adverse_media'], \n",
    "                                                    test_size=0.1, \n",
    "                                                    random_state=42,\n",
    "                                                    stratify=df['is_adverse_media'])\n",
    "\n",
    "print(x_train.shape, x_val.shape, y_train.shape, y_val.shape)"
   ]
  },
  {
   "cell_type": "code",
   "execution_count": 53,
   "metadata": {},
   "outputs": [
    {
     "name": "stdout",
     "output_type": "stream",
     "text": [
      "TfidfVectorizer(max_df=0.5, max_features=40000, min_df=5, ngram_range=(1, 3),\n",
      "                stop_words='english')\n"
     ]
    }
   ],
   "source": [
    "ngram_vectorizer = TfidfVectorizer(max_features=40000,\n",
    "                             min_df=5, \n",
    "                             max_df=0.5, \n",
    "                             analyzer='word', \n",
    "                             stop_words='english', \n",
    "                             ngram_range=(1, 3))\n",
    "print(ngram_vectorizer)"
   ]
  },
  {
   "cell_type": "code",
   "execution_count": 54,
   "metadata": {},
   "outputs": [],
   "source": [
    "import random\n",
    "ngram_vectorizer.fit(x_train)\n",
    "features = ngram_vectorizer.get_feature_names()"
   ]
  },
  {
   "cell_type": "code",
   "execution_count": 55,
   "metadata": {},
   "outputs": [],
   "source": [
    "tfidf_train = ngram_vectorizer.transform(x_train)\n",
    "tfidf_validation = ngram_vectorizer.transform(x_val)"
   ]
  },
  {
   "cell_type": "code",
   "execution_count": 56,
   "metadata": {},
   "outputs": [
    {
     "data": {
      "text/html": [
       "<div>\n",
       "<style scoped>\n",
       "    .dataframe tbody tr th:only-of-type {\n",
       "        vertical-align: middle;\n",
       "    }\n",
       "\n",
       "    .dataframe tbody tr th {\n",
       "        vertical-align: top;\n",
       "    }\n",
       "\n",
       "    .dataframe thead th {\n",
       "        text-align: right;\n",
       "    }\n",
       "</style>\n",
       "<table border=\"1\" class=\"dataframe\">\n",
       "  <thead>\n",
       "    <tr style=\"text-align: right;\">\n",
       "      <th></th>\n",
       "      <th>abandon</th>\n",
       "      <th>abdul</th>\n",
       "      <th>abdullah</th>\n",
       "      <th>abide</th>\n",
       "      <th>ability</th>\n",
       "      <th>able</th>\n",
       "      <th>able use</th>\n",
       "      <th>abolish</th>\n",
       "      <th>abroad</th>\n",
       "      <th>absence</th>\n",
       "      <th>...</th>\n",
       "      <th>zanupf</th>\n",
       "      <th>zealand</th>\n",
       "      <th>zero</th>\n",
       "      <th>zetas</th>\n",
       "      <th>zimbabwe</th>\n",
       "      <th>zimbabwe anticorruption</th>\n",
       "      <th>zimbabwe anticorruption commission</th>\n",
       "      <th>zimbabwean</th>\n",
       "      <th>zimbabwes</th>\n",
       "      <th>zone</th>\n",
       "    </tr>\n",
       "  </thead>\n",
       "  <tbody>\n",
       "    <tr>\n",
       "      <th>0</th>\n",
       "      <td>0.0</td>\n",
       "      <td>0.0</td>\n",
       "      <td>0.0</td>\n",
       "      <td>0.0</td>\n",
       "      <td>0.0</td>\n",
       "      <td>0.000000</td>\n",
       "      <td>0.0</td>\n",
       "      <td>0.0</td>\n",
       "      <td>0.000000</td>\n",
       "      <td>0.000000</td>\n",
       "      <td>...</td>\n",
       "      <td>0.0</td>\n",
       "      <td>0.0</td>\n",
       "      <td>0.0</td>\n",
       "      <td>0.0</td>\n",
       "      <td>0.000000</td>\n",
       "      <td>0.0</td>\n",
       "      <td>0.0</td>\n",
       "      <td>0.000000</td>\n",
       "      <td>0.000000</td>\n",
       "      <td>0.0</td>\n",
       "    </tr>\n",
       "    <tr>\n",
       "      <th>1</th>\n",
       "      <td>0.0</td>\n",
       "      <td>0.0</td>\n",
       "      <td>0.0</td>\n",
       "      <td>0.0</td>\n",
       "      <td>0.0</td>\n",
       "      <td>0.000000</td>\n",
       "      <td>0.0</td>\n",
       "      <td>0.0</td>\n",
       "      <td>0.074467</td>\n",
       "      <td>0.000000</td>\n",
       "      <td>...</td>\n",
       "      <td>0.0</td>\n",
       "      <td>0.0</td>\n",
       "      <td>0.0</td>\n",
       "      <td>0.0</td>\n",
       "      <td>0.000000</td>\n",
       "      <td>0.0</td>\n",
       "      <td>0.0</td>\n",
       "      <td>0.000000</td>\n",
       "      <td>0.000000</td>\n",
       "      <td>0.0</td>\n",
       "    </tr>\n",
       "    <tr>\n",
       "      <th>2</th>\n",
       "      <td>0.0</td>\n",
       "      <td>0.0</td>\n",
       "      <td>0.0</td>\n",
       "      <td>0.0</td>\n",
       "      <td>0.0</td>\n",
       "      <td>0.000000</td>\n",
       "      <td>0.0</td>\n",
       "      <td>0.0</td>\n",
       "      <td>0.000000</td>\n",
       "      <td>0.000000</td>\n",
       "      <td>...</td>\n",
       "      <td>0.0</td>\n",
       "      <td>0.0</td>\n",
       "      <td>0.0</td>\n",
       "      <td>0.0</td>\n",
       "      <td>0.129174</td>\n",
       "      <td>0.0</td>\n",
       "      <td>0.0</td>\n",
       "      <td>0.139431</td>\n",
       "      <td>0.071932</td>\n",
       "      <td>0.0</td>\n",
       "    </tr>\n",
       "    <tr>\n",
       "      <th>3</th>\n",
       "      <td>0.0</td>\n",
       "      <td>0.0</td>\n",
       "      <td>0.0</td>\n",
       "      <td>0.0</td>\n",
       "      <td>0.0</td>\n",
       "      <td>0.000000</td>\n",
       "      <td>0.0</td>\n",
       "      <td>0.0</td>\n",
       "      <td>0.000000</td>\n",
       "      <td>0.016777</td>\n",
       "      <td>...</td>\n",
       "      <td>0.0</td>\n",
       "      <td>0.0</td>\n",
       "      <td>0.0</td>\n",
       "      <td>0.0</td>\n",
       "      <td>0.000000</td>\n",
       "      <td>0.0</td>\n",
       "      <td>0.0</td>\n",
       "      <td>0.000000</td>\n",
       "      <td>0.000000</td>\n",
       "      <td>0.0</td>\n",
       "    </tr>\n",
       "    <tr>\n",
       "      <th>4</th>\n",
       "      <td>0.0</td>\n",
       "      <td>0.0</td>\n",
       "      <td>0.0</td>\n",
       "      <td>0.0</td>\n",
       "      <td>0.0</td>\n",
       "      <td>0.000000</td>\n",
       "      <td>0.0</td>\n",
       "      <td>0.0</td>\n",
       "      <td>0.000000</td>\n",
       "      <td>0.000000</td>\n",
       "      <td>...</td>\n",
       "      <td>0.0</td>\n",
       "      <td>0.0</td>\n",
       "      <td>0.0</td>\n",
       "      <td>0.0</td>\n",
       "      <td>0.000000</td>\n",
       "      <td>0.0</td>\n",
       "      <td>0.0</td>\n",
       "      <td>0.000000</td>\n",
       "      <td>0.000000</td>\n",
       "      <td>0.0</td>\n",
       "    </tr>\n",
       "    <tr>\n",
       "      <th>5</th>\n",
       "      <td>0.0</td>\n",
       "      <td>0.0</td>\n",
       "      <td>0.0</td>\n",
       "      <td>0.0</td>\n",
       "      <td>0.0</td>\n",
       "      <td>0.000000</td>\n",
       "      <td>0.0</td>\n",
       "      <td>0.0</td>\n",
       "      <td>0.000000</td>\n",
       "      <td>0.000000</td>\n",
       "      <td>...</td>\n",
       "      <td>0.0</td>\n",
       "      <td>0.0</td>\n",
       "      <td>0.0</td>\n",
       "      <td>0.0</td>\n",
       "      <td>0.000000</td>\n",
       "      <td>0.0</td>\n",
       "      <td>0.0</td>\n",
       "      <td>0.000000</td>\n",
       "      <td>0.000000</td>\n",
       "      <td>0.0</td>\n",
       "    </tr>\n",
       "    <tr>\n",
       "      <th>6</th>\n",
       "      <td>0.0</td>\n",
       "      <td>0.0</td>\n",
       "      <td>0.0</td>\n",
       "      <td>0.0</td>\n",
       "      <td>0.0</td>\n",
       "      <td>0.000000</td>\n",
       "      <td>0.0</td>\n",
       "      <td>0.0</td>\n",
       "      <td>0.000000</td>\n",
       "      <td>0.000000</td>\n",
       "      <td>...</td>\n",
       "      <td>0.0</td>\n",
       "      <td>0.0</td>\n",
       "      <td>0.0</td>\n",
       "      <td>0.0</td>\n",
       "      <td>0.000000</td>\n",
       "      <td>0.0</td>\n",
       "      <td>0.0</td>\n",
       "      <td>0.000000</td>\n",
       "      <td>0.000000</td>\n",
       "      <td>0.0</td>\n",
       "    </tr>\n",
       "    <tr>\n",
       "      <th>7</th>\n",
       "      <td>0.0</td>\n",
       "      <td>0.0</td>\n",
       "      <td>0.0</td>\n",
       "      <td>0.0</td>\n",
       "      <td>0.0</td>\n",
       "      <td>0.000000</td>\n",
       "      <td>0.0</td>\n",
       "      <td>0.0</td>\n",
       "      <td>0.000000</td>\n",
       "      <td>0.000000</td>\n",
       "      <td>...</td>\n",
       "      <td>0.0</td>\n",
       "      <td>0.0</td>\n",
       "      <td>0.0</td>\n",
       "      <td>0.0</td>\n",
       "      <td>0.000000</td>\n",
       "      <td>0.0</td>\n",
       "      <td>0.0</td>\n",
       "      <td>0.000000</td>\n",
       "      <td>0.000000</td>\n",
       "      <td>0.0</td>\n",
       "    </tr>\n",
       "    <tr>\n",
       "      <th>8</th>\n",
       "      <td>0.0</td>\n",
       "      <td>0.0</td>\n",
       "      <td>0.0</td>\n",
       "      <td>0.0</td>\n",
       "      <td>0.0</td>\n",
       "      <td>0.014276</td>\n",
       "      <td>0.0</td>\n",
       "      <td>0.0</td>\n",
       "      <td>0.000000</td>\n",
       "      <td>0.000000</td>\n",
       "      <td>...</td>\n",
       "      <td>0.0</td>\n",
       "      <td>0.0</td>\n",
       "      <td>0.0</td>\n",
       "      <td>0.0</td>\n",
       "      <td>0.000000</td>\n",
       "      <td>0.0</td>\n",
       "      <td>0.0</td>\n",
       "      <td>0.000000</td>\n",
       "      <td>0.000000</td>\n",
       "      <td>0.0</td>\n",
       "    </tr>\n",
       "    <tr>\n",
       "      <th>9</th>\n",
       "      <td>0.0</td>\n",
       "      <td>0.0</td>\n",
       "      <td>0.0</td>\n",
       "      <td>0.0</td>\n",
       "      <td>0.0</td>\n",
       "      <td>0.000000</td>\n",
       "      <td>0.0</td>\n",
       "      <td>0.0</td>\n",
       "      <td>0.000000</td>\n",
       "      <td>0.000000</td>\n",
       "      <td>...</td>\n",
       "      <td>0.0</td>\n",
       "      <td>0.0</td>\n",
       "      <td>0.0</td>\n",
       "      <td>0.0</td>\n",
       "      <td>0.000000</td>\n",
       "      <td>0.0</td>\n",
       "      <td>0.0</td>\n",
       "      <td>0.000000</td>\n",
       "      <td>0.000000</td>\n",
       "      <td>0.0</td>\n",
       "    </tr>\n",
       "  </tbody>\n",
       "</table>\n",
       "<p>10 rows × 6730 columns</p>\n",
       "</div>"
      ],
      "text/plain": [
       "   abandon  abdul  abdullah  abide  ability      able  able use  abolish  \\\n",
       "0      0.0    0.0       0.0    0.0      0.0  0.000000       0.0      0.0   \n",
       "1      0.0    0.0       0.0    0.0      0.0  0.000000       0.0      0.0   \n",
       "2      0.0    0.0       0.0    0.0      0.0  0.000000       0.0      0.0   \n",
       "3      0.0    0.0       0.0    0.0      0.0  0.000000       0.0      0.0   \n",
       "4      0.0    0.0       0.0    0.0      0.0  0.000000       0.0      0.0   \n",
       "5      0.0    0.0       0.0    0.0      0.0  0.000000       0.0      0.0   \n",
       "6      0.0    0.0       0.0    0.0      0.0  0.000000       0.0      0.0   \n",
       "7      0.0    0.0       0.0    0.0      0.0  0.000000       0.0      0.0   \n",
       "8      0.0    0.0       0.0    0.0      0.0  0.014276       0.0      0.0   \n",
       "9      0.0    0.0       0.0    0.0      0.0  0.000000       0.0      0.0   \n",
       "\n",
       "     abroad   absence  ...  zanupf  zealand  zero  zetas  zimbabwe  \\\n",
       "0  0.000000  0.000000  ...     0.0      0.0   0.0    0.0  0.000000   \n",
       "1  0.074467  0.000000  ...     0.0      0.0   0.0    0.0  0.000000   \n",
       "2  0.000000  0.000000  ...     0.0      0.0   0.0    0.0  0.129174   \n",
       "3  0.000000  0.016777  ...     0.0      0.0   0.0    0.0  0.000000   \n",
       "4  0.000000  0.000000  ...     0.0      0.0   0.0    0.0  0.000000   \n",
       "5  0.000000  0.000000  ...     0.0      0.0   0.0    0.0  0.000000   \n",
       "6  0.000000  0.000000  ...     0.0      0.0   0.0    0.0  0.000000   \n",
       "7  0.000000  0.000000  ...     0.0      0.0   0.0    0.0  0.000000   \n",
       "8  0.000000  0.000000  ...     0.0      0.0   0.0    0.0  0.000000   \n",
       "9  0.000000  0.000000  ...     0.0      0.0   0.0    0.0  0.000000   \n",
       "\n",
       "   zimbabwe anticorruption  zimbabwe anticorruption commission  zimbabwean  \\\n",
       "0                      0.0                                 0.0    0.000000   \n",
       "1                      0.0                                 0.0    0.000000   \n",
       "2                      0.0                                 0.0    0.139431   \n",
       "3                      0.0                                 0.0    0.000000   \n",
       "4                      0.0                                 0.0    0.000000   \n",
       "5                      0.0                                 0.0    0.000000   \n",
       "6                      0.0                                 0.0    0.000000   \n",
       "7                      0.0                                 0.0    0.000000   \n",
       "8                      0.0                                 0.0    0.000000   \n",
       "9                      0.0                                 0.0    0.000000   \n",
       "\n",
       "   zimbabwes  zone  \n",
       "0   0.000000   0.0  \n",
       "1   0.000000   0.0  \n",
       "2   0.071932   0.0  \n",
       "3   0.000000   0.0  \n",
       "4   0.000000   0.0  \n",
       "5   0.000000   0.0  \n",
       "6   0.000000   0.0  \n",
       "7   0.000000   0.0  \n",
       "8   0.000000   0.0  \n",
       "9   0.000000   0.0  \n",
       "\n",
       "[10 rows x 6730 columns]"
      ]
     },
     "execution_count": 56,
     "metadata": {},
     "output_type": "execute_result"
    }
   ],
   "source": [
    "doc_array = tfidf_train.toarray()\n",
    "frequency_matrix = pd.DataFrame(doc_array, columns = features)\n",
    "frequency_matrix.head(10)"
   ]
  },
  {
   "cell_type": "code",
   "execution_count": 57,
   "metadata": {},
   "outputs": [],
   "source": [
    "def get_auc_CV(model):\n",
    "    \"\"\"\n",
    "    Return the average AUC score from cross-validation.\n",
    "    \"\"\"\n",
    "    # Set KFold to shuffle data before the split\n",
    "    kf = StratifiedKFold(5, shuffle=True, random_state=1)\n",
    "\n",
    "    # Get AUC scores\n",
    "    auc = cross_val_score(model, tfidf_train, y_train, scoring=\"roc_auc\", cv=kf)\n",
    "\n",
    "    return auc.mean()\n"
   ]
  },
  {
   "cell_type": "code",
   "execution_count": 58,
   "metadata": {},
   "outputs": [
    {
     "name": "stdout",
     "output_type": "stream",
     "text": [
      "Best alpha:  0.3\n"
     ]
    },
    {
     "data": {
      "image/png": "[encoded data removed]",
      "text/plain": [
       "<Figure size 432x288 with 1 Axes>"
      ]
     },
     "metadata": {
      "needs_background": "light"
     },
     "output_type": "display_data"
    }
   ],
   "source": [
    "res = pd.Series([get_auc_CV(MultinomialNB(alpha = i))\n",
    "                 for i in np.arange(0.1, 10, 0.1)],\n",
    "                index=np.arange(0.1, 10, 0.1))\n",
    "\n",
    "best_alpha = np.round(res.idxmax(), 2)\n",
    "print('Best alpha: ', best_alpha)\n",
    "\n",
    "plt.plot(res)\n",
    "plt.title('AUC vs. Alpha')\n",
    "plt.xlabel('Alpha')\n",
    "plt.ylabel('AUC')\n",
    "plt.show()"
   ]
  },
  {
   "cell_type": "code",
   "execution_count": 59,
   "metadata": {},
   "outputs": [],
   "source": [
    "def evaluate_roc(probs, y_true):\n",
    "    \"\"\"\n",
    "    - Print AUC and accuracy on the test set\n",
    "    - Plot ROC\n",
    "    @params    probs (np.array): an array of predicted probabilities with shape (len(y_true), 2)\n",
    "    @params    y_true (np.array): an array of the true values with shape (len(y_true),)\n",
    "    \"\"\"\n",
    "    preds = probs[:, 1]\n",
    "    fpr, tpr, threshold = roc_curve(y_true, preds)\n",
    "    roc_auc = auc(fpr, tpr)\n",
    "    print(f'AUC: {roc_auc:.4f}')\n",
    "       \n",
    "    # Get accuracy over the test set\n",
    "    y_pred = np.where(preds >= 0.5, 1, 0)\n",
    "    accuracy = accuracy_score(y_true, y_pred)\n",
    "    print(f'Accuracy: {accuracy*100:.2f}%')\n",
    "    \n",
    "    # Plot ROC AUC\n",
    "    plt.title('Receiver Operating Characteristic')\n",
    "    plt.plot(fpr, tpr, 'b', label = 'AUC = %0.2f' % roc_auc)\n",
    "    plt.legend(loc = 'lower right')\n",
    "    plt.plot([0, 1], [0, 1],'r--')\n",
    "    plt.xlim([0, 1])\n",
    "    plt.ylim([0, 1])\n",
    "    plt.ylabel('True Positive Rate')\n",
    "    plt.xlabel('False Positive Rate')\n",
    "    plt.show()"
   ]
  },
  {
   "cell_type": "code",
   "execution_count": 60,
   "metadata": {},
   "outputs": [
    {
     "name": "stdout",
     "output_type": "stream",
     "text": [
      "AUC: 0.9474\n",
      "Accuracy: 87.67%\n"
     ]
    },
    {
     "data": {
      "image/png": "[encoded data removed]",
      "text/plain": [
       "<Figure size 432x288 with 1 Axes>"
      ]
     },
     "metadata": {
      "needs_background": "light"
     },
     "output_type": "display_data"
    }
   ],
   "source": [
    "# Compute predicted probabilities\n",
    "nb_model = MultinomialNB(alpha=best_alpha)\n",
    "nb_model.fit(tfidf_train, y_train)\n",
    "probs = nb_model.predict_proba(tfidf_validation)\n",
    "\n",
    "# Evaluate the classifier\n",
    "evaluate_roc(probs, y_val)"
   ]
  },
  {
   "cell_type": "code",
   "execution_count": 61,
   "metadata": {},
   "outputs": [],
   "source": [
    "train_preds_nb = nb_model.predict(tfidf_train)\n",
    "val_preds_nb = nb_model.predict(tfidf_validation)\n",
    "\n",
    "train_f1_score_nb = f1_score(y_train, train_preds_nb)\n",
    "val_f1_score_nb = f1_score(y_val, val_preds_nb)\n",
    "\n",
    "train_accuracy_nb = accuracy_score(y_train, train_preds_nb)\n",
    "val_accuracy_nb = accuracy_score(y_val, val_preds_nb)"
   ]
  },
  {
   "cell_type": "code",
   "execution_count": 62,
   "metadata": {
    "pycharm": {
     "name": "#%%\n"
    }
   },
   "outputs": [
    {
     "name": "stdout",
     "output_type": "stream",
     "text": [
      "Prediction accuracy for naive bayes model on train data: 96.951\n",
      "Prediction accuracy for naive bayes model on validation data: 87.671\n",
      "\n",
      "F1 score for naive bayes model on train data: 97.312\n",
      "F1 score for naive bayes model on validation data: 89.655\n"
     ]
    }
   ],
   "source": [
    "print('Prediction accuracy for naive bayes model on train data:', round(train_accuracy_nb*100, 3))\n",
    "print('Prediction accuracy for naive bayes model on validation data:', round(val_accuracy_nb*100, 3))\n",
    "\n",
    "print()\n",
    "\n",
    "print('F1 score for naive bayes model on train data:', round(train_f1_score_nb*100, 3))\n",
    "print('F1 score for naive bayes model on validation data:', round(val_f1_score_nb*100, 3))"
   ]
  },
  {
   "cell_type": "markdown",
   "metadata": {
    "pycharm": {
     "name": "#%% md\n"
    }
   },
   "source": [
    "### Last\n",
    "* Prediction accuracy for naive bayes model on train data: 96.494\n",
    "* Prediction accuracy for naive bayes model on validation data: 90.411\n",
    "\n",
    "* F1 score for naive bayes model on train data: 96.879\n",
    "* F1 score for naive bayes model on validation data: 91.954\n",
    "\n"
   ]
  },
  {
   "cell_type": "code",
   "execution_count": 63,
   "metadata": {},
   "outputs": [
    {
     "data": {
      "text/plain": [
       "MultinomialNB(alpha=0.3)"
      ]
     },
     "execution_count": 63,
     "metadata": {},
     "output_type": "execute_result"
    }
   ],
   "source": [
    "\n",
    "\n",
    "ngram_vectorizer = TfidfVectorizer(max_features=40000,\n",
    "                             min_df=5, \n",
    "                             max_df=0.5, \n",
    "                             analyzer='word', \n",
    "                             stop_words='english', \n",
    "                             ngram_range=(1, 3))\n",
    "\n",
    "\n",
    "tfidf_train = ngram_vectorizer.fit_transform(df['lemmatized_articles'])\n",
    "y_train = df['is_adverse_media']\n",
    "\n",
    "nb_model = MultinomialNB(alpha=best_alpha)\n",
    "nb_model.fit(tfidf_train, y_train)"
   ]
  },
  {
   "cell_type": "code",
   "execution_count": 43,
   "metadata": {},
   "outputs": [],
   "source": [
    "public_test = pd.read_csv('../public_test.csv')"
   ]
  },
  {
   "cell_type": "code",
   "execution_count": 44,
   "metadata": {},
   "outputs": [
    {
     "name": "stdout",
     "output_type": "stream",
     "text": [
      "/Users/kristjan.roosild/kool/MachineLearning/projekt/ut-ml-adverse-media/Kristjan\n"
     ]
    }
   ],
   "source": [
    "!pwd"
   ]
  },
  {
   "cell_type": "code",
   "execution_count": null,
   "metadata": {},
   "outputs": [],
   "source": []
  },
  {
   "cell_type": "code",
   "execution_count": 45,
   "metadata": {},
   "outputs": [],
   "source": [
    "public_test[\"article\"] = public_test[\"title\"] + \" \" + public_test[\"article\"]\n",
    "public_test = public_test.drop([\"title\"], axis =1)"
   ]
  },
  {
   "cell_type": "code",
   "execution_count": null,
   "outputs": [],
   "source": [
    "public_test_lemmatized = public_test[['article', 'label']].copy()\n",
    "public_test_lemmatized[\"article\"] = public_test_lemmatized[\"article\"].apply(lemmatize)\n",
    "public_test_lemmatized = public_test_lemmatized.reset_index()\n",
    "public_test_lemmatized = public_test_lemmatized.drop(['index'], axis=1)\n",
    "public_test_lemmatized\n",
    "\n"
   ],
   "metadata": {
    "collapsed": false,
    "pycharm": {
     "name": "#%%\n"
    }
   }
  },
  {
   "cell_type": "code",
   "execution_count": null,
   "outputs": [],
   "source": [
    "tfidf_public_test = ngram_vectorizer.transform(public_test_lemmatized.article)\n",
    "\n",
    "public_test_preds_nb = nb_model.predict(tfidf_public_test)\n",
    "\n",
    "public_test_accuracy_nb = accuracy_score(public_test.label, public_test_preds_nb)\n",
    "\n",
    "public_test_f1_score_nb = f1_score(public_test.label, public_test_preds_nb)\n",
    "\n",
    "\n",
    "print('Prediction accuracy for naive bayes model on public test data:', round(public_test_accuracy_nb*100, 3))\n",
    "\n",
    "print()\n",
    "\n",
    "print('F1 score for naive bayes model on public test data:', round(public_test_f1_score_nb*100, 3))"
   ],
   "metadata": {
    "collapsed": false,
    "pycharm": {
     "name": "#%%\n"
    }
   }
  },
  {
   "cell_type": "code",
   "execution_count": 46,
   "metadata": {},
   "outputs": [],
   "source": [
    "\n",
    "\n",
    "Using Karl's cleaning and lemmatization, title added to article:\n",
    "\n",
    "Prediction accuracy for naive bayes model on public test data: 90.566\n",
    "\n",
    "F1 score for naive bayes model on public test data: 92.537\n",
    "\n",
    "\n",
    "Original cleaned_lemmatized_text.csv for train and lemmatize func is :\n",
    "Prediction accuracy for naive bayes model on public test data: 91.824\n",
    "\n",
    "F1 score for naive bayes model on public test data: 93.467"
   ]
  },
  {
   "cell_type": "code",
   "execution_count": 65,
   "metadata": {},
   "outputs": [
    {
     "name": "stdout",
     "output_type": "stream",
     "text": [
      "Prediction accuracy for naive bayes model on public test data: 91.824\n",
      "\n",
      "F1 score for naive bayes model on public test data: 93.333\n"
     ]
    }
   ],
   "source": [
    "tfidf_public_test = ngram_vectorizer.transform(public_test_lemmatized.article)\n",
    "\n",
    "public_test_preds_nb = nb_model.predict(tfidf_public_test)\n",
    "\n",
    "public_test_accuracy_nb = accuracy_score(public_test.label, public_test_preds_nb)\n",
    "\n",
    "public_test_f1_score_nb = f1_score(public_test.label, public_test_preds_nb)\n",
    "\n",
    "\n",
    "print('Prediction accuracy for naive bayes model on public test data:', round(public_test_accuracy_nb*100, 3))\n",
    "\n",
    "print()\n",
    "\n",
    "print('F1 score for naive bayes model on public test data:', round(public_test_f1_score_nb*100, 3))"
   ]
  },
  {
   "cell_type": "markdown",
   "metadata": {},
   "source": [
    "\n",
    "\n",
    "Using Karl's cleaning and lemmatization, title added to article:\n",
    "\n",
    "Prediction accuracy for naive bayes model on public test data: 90.566\n",
    "\n",
    "F1 score for naive bayes model on public test data: 92.537\n",
    "\n",
    "\n",
    "Original cleaned_lemmatized_text.csv for train and lemmatize func is :\n",
    "Prediction accuracy for naive bayes model on public test data: 91.824\n",
    "\n",
    "F1 score for naive bayes model on public test data: 93.467"
   ]
  }
 ],
 "metadata": {
  "kernelspec": {
   "display_name": "Python 3",
   "language": "python",
   "name": "python3"
  },
  "language_info": {
   "codemirror_mode": {
    "name": "ipython",
    "version": 3
   },
   "file_extension": ".py",
   "mimetype": "text/x-python",
   "name": "python",
   "nbconvert_exporter": "python",
   "pygments_lexer": "ipython3",
   "version": "3.8.2"
  }
 },
 "nbformat": 4,
 "nbformat_minor": 4
}