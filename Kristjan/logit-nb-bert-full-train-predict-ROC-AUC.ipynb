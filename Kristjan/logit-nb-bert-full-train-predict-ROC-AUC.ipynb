{
 "cells": [
  {
   "cell_type": "code",
   "execution_count": null,
   "metadata": {},
   "outputs": [],
   "source": []
  },
  {
   "cell_type": "code",
   "execution_count": 1,
   "metadata": {},
   "outputs": [],
   "source": [
    "import pandas as pd\n",
    "import numpy as np\n",
    "import json\n",
    "import math\n",
    "import matplotlib.pyplot as plt\n",
    "%matplotlib inline\n",
    "\n",
    "from sklearn.model_selection import train_test_split\n",
    "from sklearn.feature_extraction.text import TfidfVectorizer\n",
    "from sklearn.linear_model import LogisticRegression\n",
    "from sklearn.naive_bayes import MultinomialNB\n",
    "\n",
    "from sklearn.metrics import accuracy_score, auc, roc_auc_score, f1_score, confusion_matrix\n",
    "\n",
    "import scipy\n",
    "from scipy.sparse import hstack\n",
    "\n",
    "# This module will be for saving the trained model for later use\n",
    "import joblib\n",
    "\n",
    "import spacy\n",
    "import re"
   ]
  },
  {
   "cell_type": "markdown",
   "metadata": {},
   "source": [
    "## Prep training data"
   ]
  },
  {
   "cell_type": "code",
   "execution_count": 2,
   "metadata": {},
   "outputs": [],
   "source": [
    "import spacy\n",
    "import re\n",
    "\n",
    "nlp = spacy.load('en_core_web_sm')\n",
    "\n",
    "regex1 = re.compile(r'(http\\S+)|(#(\\w+))|(@(\\w+))|[^\\w\\s]|(\\w*\\d\\w*)')\n",
    "regex2 = re.compile(r'(\\s+)|(\\n+)')\n",
    "\n",
    "def lemmatize(article):\n",
    "    article = re.sub(regex1, '', article)\n",
    "    article = re.sub(regex2,' ', article).strip().lower()\n",
    "    \n",
    "    doc = nlp(article)\n",
    "    lemmatized_article = \" \".join([token.lemma_ for token in doc if (token.is_stop==False)]) \n",
    "    \n",
    "    return lemmatized_article"
   ]
  },
  {
   "cell_type": "code",
   "execution_count": 3,
   "metadata": {},
   "outputs": [],
   "source": [
    "am = pd.read_csv('../adverse_media_training.csv.zip')\n",
    "nam = pd.read_csv('../non_adverse_media_training.csv.zip')\n",
    "\n",
    "am_confirmed = am.loc[(am.label == 'am') | (am.label == 'am ')]\n",
    "am_confirmed = pd.concat([am_confirmed, nam.loc[nam.label == 'am']])\n",
    "\n",
    "nam_confirmed = nam.loc[(nam.label == 'nam') | (nam.label == 'random')]\n",
    "nam_confirmed = pd.concat([nam_confirmed, am.loc[(am.label == 'nam') | (am.label == 'random')]])\n",
    "\n",
    "am_confirmed['is_adverse_media'] = 1\n",
    "nam_confirmed['is_adverse_media'] = 0\n",
    "\n",
    "# Creating the train dataset\n",
    "data = pd.concat([am_confirmed, nam_confirmed])\n",
    "\n",
    "data[\"article\"] = data[\"title\"] + \" \" + data[\"article\"]\n",
    "data[\"lemmatized\"] = data[\"article\"].apply(lemmatize)\n",
    "\n",
    "data = data.sample(frac = 1, random_state=42)\n",
    "data = data.reset_index()\n",
    "data = data.drop(['index'], axis=1)"
   ]
  },
  {
   "cell_type": "code",
   "execution_count": 4,
   "metadata": {},
   "outputs": [],
   "source": [
    "x_train = data[\"lemmatized\"]\n",
    "y_train = data[\"is_adverse_media\"]"
   ]
  },
  {
   "cell_type": "markdown",
   "metadata": {},
   "source": [
    "### Energize! ...khm, Vectorize."
   ]
  },
  {
   "cell_type": "code",
   "execution_count": 5,
   "metadata": {},
   "outputs": [],
   "source": [
    "ngram_vectorizer = TfidfVectorizer(max_features=40000,\n",
    "                             min_df=5, \n",
    "                             max_df=0.5, \n",
    "                             analyzer='word', \n",
    "                             stop_words='english', \n",
    "                             ngram_range=(1, 3))\n",
    "\n",
    "ngram_vectorizer.fit(x_train)\n",
    "tfidf_train = ngram_vectorizer.transform(x_train)\n"
   ]
  },
  {
   "cell_type": "markdown",
   "metadata": {},
   "source": [
    "### Train all dem modelz!"
   ]
  },
  {
   "cell_type": "code",
   "execution_count": 6,
   "metadata": {},
   "outputs": [
    {
     "data": {
      "text/plain": [
       "LogisticRegression(solver='sag')"
      ]
     },
     "execution_count": 6,
     "metadata": {},
     "output_type": "execute_result"
    }
   ],
   "source": [
    "logit_model = LogisticRegression(solver='sag')\n",
    "logit_model.fit(tfidf_train, y_train)\n"
   ]
  },
  {
   "cell_type": "code",
   "execution_count": 7,
   "metadata": {},
   "outputs": [
    {
     "data": {
      "text/plain": [
       "MultinomialNB(alpha=0.3)"
      ]
     },
     "execution_count": 7,
     "metadata": {},
     "output_type": "execute_result"
    }
   ],
   "source": [
    "nb_model = MultinomialNB(alpha=0.3)\n",
    "nb_model.fit(tfidf_train, y_train)"
   ]
  },
  {
   "cell_type": "markdown",
   "metadata": {},
   "source": [
    "### Load and prepare public test data"
   ]
  },
  {
   "cell_type": "code",
   "execution_count": 8,
   "metadata": {},
   "outputs": [],
   "source": [
    "public_test = pd.read_csv('../public_test.csv')\n",
    "public_test_lemmatized = public_test[['article', 'label']].copy()\n",
    "public_test_lemmatized[\"article\"] = public_test_lemmatized[\"article\"].apply(lemmatize)\n",
    "public_test_lemmatized = public_test_lemmatized.reset_index()\n",
    "public_test_lemmatized = public_test_lemmatized.drop(['index'], axis=1)\n",
    "\n",
    "tfidf_public_test = ngram_vectorizer.transform(public_test_lemmatized.article)"
   ]
  },
  {
   "cell_type": "markdown",
   "metadata": {},
   "source": [
    "### Score!"
   ]
  },
  {
   "cell_type": "code",
   "execution_count": 9,
   "metadata": {},
   "outputs": [
    {
     "name": "stdout",
     "output_type": "stream",
     "text": [
      "Prediction accuracy for logistic regression model on public test data: 87.421\n",
      "F1 score for logistic regression model on public test data: 90.291\n",
      "\n",
      "Prediction accuracy for naive bayes model on public test data: 92.453\n",
      "F1 score for naive bayes model on public test data: 93.878\n",
      "\n"
     ]
    }
   ],
   "source": [
    "def test_score(model, name, tfidf, labels):\n",
    "    preds = model.predict(tfidf)\n",
    "    accuracy = accuracy_score(labels, preds)\n",
    "    f1 = f1_score(labels, preds)\n",
    "    print(f'Prediction accuracy for {name} model on public test data:', round(accuracy*100, 3))\n",
    "    print(f'F1 score for {name} model on public test data:', round(f1*100, 3))\n",
    "    print()\n",
    "\n",
    "test_score(logit_model, 'logistic regression', tfidf_public_test, public_test.label)\n",
    "test_score(nb_model, 'naive bayes', tfidf_public_test, public_test.label)\n"
   ]
  },
  {
   "cell_type": "code",
   "execution_count": null,
   "metadata": {},
   "outputs": [],
   "source": []
  },
  {
   "cell_type": "code",
   "execution_count": 10,
   "metadata": {},
   "outputs": [
    {
     "name": "stdout",
     "output_type": "stream",
     "text": [
      "logistic regression AUC: 0.9761\n",
      "naive bayes AUC: 0.9790\n",
      "BERT AUC: 0.9764\n"
     ]
    },
    {
     "data": {
      "image/png": "[encoded data removed]",
      "text/plain": [
       "<Figure size 1080x504 with 1 Axes>"
      ]
     },
     "metadata": {
      "needs_background": "light"
     },
     "output_type": "display_data"
    }
   ],
   "source": [
    "# ROC AUC for Logit, Naive Bayes and BERT on public test data\n",
    "\n",
    "\n",
    "nb_probs = nb_model.predict_proba(tfidf_public_test)\n",
    "logit_probs = logit_model.predict_proba(tfidf_public_test)\n",
    "bert_probs = pd.read_csv('BERT_public_test_preds.csv').prob1.to_numpy()\n",
    "\n",
    "from sklearn.metrics import accuracy_score, auc, roc_curve\n",
    "import numpy as np \n",
    "\n",
    "def evaluate_roc(model_probs, y_true):\n",
    "    \"\"\"\n",
    "    - Print AUC \n",
    "    - Plot ROC\n",
    "    \"\"\"\n",
    "\n",
    "    # Plot ROC AUC\n",
    "    plt.figure(figsize=(15,7))\n",
    "    plt.title('Receiver Operating Characteristic')\n",
    "    colors = {'b', 'r', 'g'}\n",
    "    for name, preds in model_probs.items():\n",
    "        fpr, tpr, threshold = roc_curve(y_true, preds)\n",
    "        roc_auc = auc(fpr, tpr)\n",
    "        plt.plot(fpr, tpr, colors.pop(), label = f'{name} AUC = %0.3f' % roc_auc)\n",
    "        print(f'{name} AUC: {roc_auc:.4f}')\n",
    "        \n",
    "    plt.legend(loc = 'lower right')\n",
    "    plt.plot([0, 1], [0, 1],'r--')\n",
    "    plt.xlim([0, 1])\n",
    "    plt.ylim([0, 1])\n",
    "    plt.ylabel('True Positive Rate')\n",
    "    plt.xlabel('False Positive Rate')\n",
    "    plt.legend()\n",
    "    plt.show()\n",
    "\n",
    "evaluate_roc({'logistic regression': logit_probs[:,1], 'naive bayes': nb_probs[:,1], 'BERT': bert_probs}, public_test.label.to_numpy(), )"
   ]
  },
  {
   "cell_type": "code",
   "execution_count": 11,
   "metadata": {},
   "outputs": [
    {
     "data": {
      "text/plain": [
       "array([[1.85542615e-01, 8.14457385e-01],\n",
       "       [1.10499050e-03, 9.98895010e-01],\n",
       "       [5.93069674e-02, 9.40693033e-01],\n",
       "       [1.68163737e-02, 9.83183626e-01],\n",
       "       [9.66156145e-02, 9.03384385e-01],\n",
       "       [2.13284006e-02, 9.78671599e-01],\n",
       "       [1.28107158e-01, 8.71892842e-01],\n",
       "       [2.19324205e-01, 7.80675795e-01],\n",
       "       [5.64481933e-02, 9.43551807e-01],\n",
       "       [2.22349179e-01, 7.77650821e-01],\n",
       "       [3.30964910e-01, 6.69035090e-01],\n",
       "       [1.14197137e-01, 8.85802863e-01],\n",
       "       [7.90133958e-01, 2.09866042e-01],\n",
       "       [2.65851077e-02, 9.73414892e-01],\n",
       "       [1.68558095e-03, 9.98314419e-01],\n",
       "       [4.08211255e-01, 5.91788745e-01],\n",
       "       [2.20111119e-02, 9.77988888e-01],\n",
       "       [7.06284768e-03, 9.92937152e-01],\n",
       "       [4.57306172e-04, 9.99542694e-01],\n",
       "       [5.99742852e-03, 9.94002571e-01],\n",
       "       [2.12838509e-03, 9.97871615e-01],\n",
       "       [1.67554830e-01, 8.32445170e-01],\n",
       "       [5.74512122e-02, 9.42548788e-01],\n",
       "       [7.79465043e-03, 9.92205350e-01],\n",
       "       [1.71320976e-01, 8.28679024e-01],\n",
       "       [2.59971557e-02, 9.74002844e-01],\n",
       "       [1.81822296e-01, 8.18177704e-01],\n",
       "       [3.26765595e-02, 9.67323440e-01],\n",
       "       [4.46831447e-02, 9.55316855e-01],\n",
       "       [4.96440348e-01, 5.03559652e-01],\n",
       "       [5.13333732e-02, 9.48666627e-01],\n",
       "       [9.94426902e-03, 9.90055731e-01],\n",
       "       [3.84428255e-01, 6.15571745e-01],\n",
       "       [1.33047145e-01, 8.66952855e-01],\n",
       "       [7.61580185e-03, 9.92384198e-01],\n",
       "       [1.47983930e-03, 9.98520161e-01],\n",
       "       [3.30798523e-02, 9.66920148e-01],\n",
       "       [4.76661530e-02, 9.52333847e-01],\n",
       "       [6.81629269e-01, 3.18370731e-01],\n",
       "       [4.69215897e-03, 9.95307841e-01],\n",
       "       [2.19545428e-01, 7.80454572e-01],\n",
       "       [1.47088843e-02, 9.85291116e-01],\n",
       "       [2.81905170e-02, 9.71809483e-01],\n",
       "       [7.27775461e-02, 9.27222454e-01],\n",
       "       [5.36476956e-01, 4.63523044e-01],\n",
       "       [1.31145675e-01, 8.68854325e-01],\n",
       "       [5.07871755e-03, 9.94921282e-01],\n",
       "       [5.72943645e-03, 9.94270564e-01],\n",
       "       [4.83670952e-02, 9.51632905e-01],\n",
       "       [2.81666846e-03, 9.97183332e-01],\n",
       "       [8.17428913e-02, 9.18257109e-01],\n",
       "       [5.65499852e-01, 4.34500148e-01],\n",
       "       [3.78386659e-02, 9.62161334e-01],\n",
       "       [1.50347972e-02, 9.84965203e-01],\n",
       "       [7.35667075e-02, 9.26433293e-01],\n",
       "       [1.06046487e-03, 9.98939535e-01],\n",
       "       [1.28067072e-01, 8.71932928e-01],\n",
       "       [1.65802914e-03, 9.98341971e-01],\n",
       "       [5.35062701e-02, 9.46493730e-01],\n",
       "       [3.47711208e-01, 6.52288792e-01],\n",
       "       [1.14714765e-01, 8.85285235e-01],\n",
       "       [2.18419746e-01, 7.81580254e-01],\n",
       "       [5.52498532e-03, 9.94475015e-01],\n",
       "       [1.10967780e-01, 8.89032220e-01],\n",
       "       [1.11809121e-02, 9.88819088e-01],\n",
       "       [2.31418327e-02, 9.76858167e-01],\n",
       "       [3.43355794e-02, 9.65664421e-01],\n",
       "       [9.57595144e-02, 9.04240486e-01],\n",
       "       [2.02824179e-03, 9.97971758e-01],\n",
       "       [1.72829317e-02, 9.82717068e-01],\n",
       "       [1.75038365e-01, 8.24961635e-01],\n",
       "       [2.15953966e-01, 7.84046034e-01],\n",
       "       [8.66254818e-02, 9.13374518e-01],\n",
       "       [4.31203992e-04, 9.99568796e-01],\n",
       "       [1.21609052e-02, 9.87839095e-01],\n",
       "       [1.92279643e-02, 9.80772036e-01],\n",
       "       [2.87480300e-02, 9.71251970e-01],\n",
       "       [5.40155592e-04, 9.99459844e-01],\n",
       "       [4.60672036e-02, 9.53932796e-01],\n",
       "       [1.82394653e-02, 9.81760535e-01],\n",
       "       [7.51958330e-03, 9.92480417e-01],\n",
       "       [4.59854120e-02, 9.54014588e-01],\n",
       "       [5.39115257e-05, 9.99946088e-01],\n",
       "       [3.80273269e-02, 9.61972673e-01],\n",
       "       [4.21404517e-01, 5.78595483e-01],\n",
       "       [8.71464543e-02, 9.12853546e-01],\n",
       "       [1.03568628e-01, 8.96431372e-01],\n",
       "       [7.96051573e-02, 9.20394843e-01],\n",
       "       [5.76114689e-03, 9.94238853e-01],\n",
       "       [6.47171846e-01, 3.52828154e-01],\n",
       "       [7.62931013e-02, 9.23706899e-01],\n",
       "       [4.55844287e-01, 5.44155713e-01],\n",
       "       [1.66205834e-02, 9.83379417e-01],\n",
       "       [7.14890866e-02, 9.28510913e-01],\n",
       "       [6.44935658e-02, 9.35506434e-01],\n",
       "       [7.12684111e-02, 9.28731589e-01],\n",
       "       [6.73372535e-03, 9.93266275e-01],\n",
       "       [8.18220025e-01, 1.81779975e-01],\n",
       "       [9.91322022e-01, 8.67797840e-03],\n",
       "       [6.98705146e-01, 3.01294854e-01],\n",
       "       [9.94487218e-01, 5.51278160e-03],\n",
       "       [9.99413647e-01, 5.86352921e-04],\n",
       "       [9.87795685e-01, 1.22043152e-02],\n",
       "       [3.03028818e-01, 6.96971182e-01],\n",
       "       [9.99562143e-01, 4.37856851e-04],\n",
       "       [2.78167388e-01, 7.21832612e-01],\n",
       "       [5.13503702e-01, 4.86496298e-01],\n",
       "       [8.66341728e-01, 1.33658272e-01],\n",
       "       [4.20446058e-01, 5.79553942e-01],\n",
       "       [6.93380607e-01, 3.06619393e-01],\n",
       "       [8.95543455e-01, 1.04456545e-01],\n",
       "       [9.87522750e-01, 1.24772504e-02],\n",
       "       [5.13634713e-01, 4.86365287e-01],\n",
       "       [9.91559402e-01, 8.44059810e-03],\n",
       "       [9.77397970e-01, 2.26020297e-02],\n",
       "       [7.46411414e-01, 2.53588586e-01],\n",
       "       [6.87032291e-01, 3.12967709e-01],\n",
       "       [2.70819122e-01, 7.29180878e-01],\n",
       "       [8.44290480e-01, 1.55709520e-01],\n",
       "       [8.74532014e-01, 1.25467986e-01],\n",
       "       [9.89069498e-01, 1.09305024e-02],\n",
       "       [3.23489221e-01, 6.76510779e-01],\n",
       "       [9.70996726e-01, 2.90032743e-02],\n",
       "       [5.30706788e-01, 4.69293212e-01],\n",
       "       [3.00247249e-01, 6.99752751e-01],\n",
       "       [8.00266774e-01, 1.99733226e-01],\n",
       "       [6.67235147e-01, 3.32764853e-01],\n",
       "       [6.35336552e-01, 3.64663448e-01],\n",
       "       [9.52710851e-01, 4.72891489e-02],\n",
       "       [5.05911711e-01, 4.94088289e-01],\n",
       "       [6.23456619e-01, 3.76543381e-01],\n",
       "       [9.60708438e-01, 3.92915617e-02],\n",
       "       [7.14080093e-01, 2.85919907e-01],\n",
       "       [9.79633330e-01, 2.03666703e-02],\n",
       "       [6.48029765e-01, 3.51970235e-01],\n",
       "       [7.90043025e-01, 2.09956975e-01],\n",
       "       [9.58321929e-01, 4.16780705e-02],\n",
       "       [9.97850152e-01, 2.14984789e-03],\n",
       "       [9.72037536e-01, 2.79624639e-02],\n",
       "       [8.49129133e-01, 1.50870867e-01],\n",
       "       [9.51150011e-01, 4.88499889e-02],\n",
       "       [9.93105476e-01, 6.89452433e-03],\n",
       "       [8.36364303e-01, 1.63635697e-01],\n",
       "       [9.91101899e-01, 8.89810145e-03],\n",
       "       [9.47982395e-01, 5.20176055e-02],\n",
       "       [8.06004251e-01, 1.93995749e-01],\n",
       "       [2.63250110e-01, 7.36749890e-01],\n",
       "       [8.46182005e-01, 1.53817995e-01],\n",
       "       [5.30417501e-01, 4.69582499e-01],\n",
       "       [9.06763711e-01, 9.32362888e-02],\n",
       "       [9.98606408e-01, 1.39359216e-03],\n",
       "       [8.19441285e-01, 1.80558715e-01],\n",
       "       [7.19565053e-01, 2.80434947e-01],\n",
       "       [7.47399878e-01, 2.52600122e-01],\n",
       "       [5.97211948e-01, 4.02788052e-01],\n",
       "       [9.99745642e-01, 2.54357727e-04],\n",
       "       [9.89752411e-01, 1.02475886e-02],\n",
       "       [9.94546292e-01, 5.45370778e-03],\n",
       "       [9.94351689e-01, 5.64831094e-03]])"
      ]
     },
     "execution_count": 11,
     "metadata": {},
     "output_type": "execute_result"
    }
   ],
   "source": [
    "pd.DataFrame(nb_probs, columns['prob0'])"
   ]
  },
  {
   "cell_type": "code",
   "execution_count": null,
   "metadata": {},
   "outputs": [],
   "source": []
  }
 ],
 "metadata": {
  "kernelspec": {
   "display_name": "Python 3",
   "language": "python",
   "name": "python3"
  },
  "language_info": {
   "codemirror_mode": {
    "name": "ipython",
    "version": 3
   },
   "file_extension": ".py",
   "mimetype": "text/x-python",
   "name": "python",
   "nbconvert_exporter": "python",
   "pygments_lexer": "ipython3",
   "version": "3.8.2"
  }
 },
 "nbformat": 4,
 "nbformat_minor": 4
}
