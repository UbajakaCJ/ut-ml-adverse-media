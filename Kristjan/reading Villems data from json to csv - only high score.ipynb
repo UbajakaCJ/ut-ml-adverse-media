{
 "cells": [
  {
   "cell_type": "code",
   "execution_count": 2,
   "metadata": {},
   "outputs": [],
   "source": [
    "import json\n",
    "import os\n",
    "\n",
    "am = []\n",
    "am_path = '../AdverseMedia_13.11.20/AM/'\n",
    "for filename in os.listdir(am_path):\n",
    "    with open(f'{am_path}{filename}') as f:\n",
    "        contents = json.load(f)\n",
    "        if float(contents['prediction_score']) >= 0.9:\n",
    "            am.append(contents['cleaned_article'])\n",
    "            \n",
    "nam = []\n",
    "nam_path = '../AdverseMedia_13.11.20/NAM/'\n",
    "for filename in os.listdir(nam_path):\n",
    "    with open(f'{nam_path}{filename}') as f:\n",
    "        contents = json.load(f)\n",
    "        if float(contents['prediction_score']) >= 0.9:\n",
    "            nam.append(contents['cleaned_article'])"
   ]
  },
  {
   "cell_type": "code",
   "execution_count": 3,
   "metadata": {},
   "outputs": [
    {
     "data": {
      "text/plain": [
       "(676, 3786)"
      ]
     },
     "execution_count": 3,
     "metadata": {},
     "output_type": "execute_result"
    }
   ],
   "source": [
    "len(am), len(nam)"
   ]
  },
  {
   "cell_type": "code",
   "execution_count": 4,
   "metadata": {},
   "outputs": [],
   "source": [
    "import pandas as pd\n",
    "\n",
    "am_df = pd.DataFrame({'article': am, 'label': [1]*len(am)})"
   ]
  },
  {
   "cell_type": "code",
   "execution_count": 5,
   "metadata": {},
   "outputs": [],
   "source": [
    "nam_df = pd.DataFrame({'article': nam, 'label': [0]*len(nam)})"
   ]
  },
  {
   "cell_type": "code",
   "execution_count": 6,
   "metadata": {},
   "outputs": [],
   "source": [
    "df = nam_df.append(am_df)"
   ]
  },
  {
   "cell_type": "code",
   "execution_count": 7,
   "metadata": {},
   "outputs": [
    {
     "data": {
      "text/plain": [
       "((4462, 2), 4462)"
      ]
     },
     "execution_count": 7,
     "metadata": {},
     "output_type": "execute_result"
    }
   ],
   "source": [
    "df.shape, len(am) + len(nam)"
   ]
  },
  {
   "cell_type": "code",
   "execution_count": 9,
   "metadata": {},
   "outputs": [],
   "source": [
    "df.to_csv('../additional_data_high_score.csv', index=False)"
   ]
  },
  {
   "cell_type": "code",
   "execution_count": 10,
   "metadata": {},
   "outputs": [
    {
     "name": "stdout",
     "output_type": "stream",
     "text": [
      "  adding: ../additional_data_high_score.csv (deflated 66%)\n"
     ]
    }
   ],
   "source": [
    "!zip ../additional_data_high_score.csv.zip ../additional_data_high_score.csv"
   ]
  },
  {
   "cell_type": "code",
   "execution_count": 11,
   "metadata": {},
   "outputs": [
    {
     "data": {
      "text/html": [
       "<div>\n",
       "<style scoped>\n",
       "    .dataframe tbody tr th:only-of-type {\n",
       "        vertical-align: middle;\n",
       "    }\n",
       "\n",
       "    .dataframe tbody tr th {\n",
       "        vertical-align: top;\n",
       "    }\n",
       "\n",
       "    .dataframe thead th {\n",
       "        text-align: right;\n",
       "    }\n",
       "</style>\n",
       "<table border=\"1\" class=\"dataframe\">\n",
       "  <thead>\n",
       "    <tr style=\"text-align: right;\">\n",
       "      <th></th>\n",
       "      <th>article</th>\n",
       "      <th>label</th>\n",
       "    </tr>\n",
       "  </thead>\n",
       "  <tbody>\n",
       "    <tr>\n",
       "      <th>0</th>\n",
       "      <td>[TITLE] Macquarie Group (MQG:AUD129.90) offers...</td>\n",
       "      <td>0</td>\n",
       "    </tr>\n",
       "    <tr>\n",
       "      <th>1</th>\n",
       "      <td>[TITLE] Magna Announces First Quarter 2020 Fin...</td>\n",
       "      <td>0</td>\n",
       "    </tr>\n",
       "    <tr>\n",
       "      <th>2</th>\n",
       "      <td>[TITLE] BHP hits hurdle with $31m fine for bre...</td>\n",
       "      <td>0</td>\n",
       "    </tr>\n",
       "    <tr>\n",
       "      <th>3</th>\n",
       "      <td>[TITLE] Stock Weekly: BHP Group ADR (BHP:$54.1...</td>\n",
       "      <td>0</td>\n",
       "    </tr>\n",
       "    <tr>\n",
       "      <th>4</th>\n",
       "      <td>[TITLE] Briefing [TITLE] \\n\\nScotiabank also s...</td>\n",
       "      <td>0</td>\n",
       "    </tr>\n",
       "    <tr>\n",
       "      <th>...</th>\n",
       "      <td>...</td>\n",
       "      <td>...</td>\n",
       "    </tr>\n",
       "    <tr>\n",
       "      <th>4457</th>\n",
       "      <td>[TITLE] Manulife was subject to FINTRAC fine [...</td>\n",
       "      <td>1</td>\n",
       "    </tr>\n",
       "    <tr>\n",
       "      <th>4458</th>\n",
       "      <td>[TITLE] Big banks face $100m blow as ANZ confe...</td>\n",
       "      <td>1</td>\n",
       "    </tr>\n",
       "    <tr>\n",
       "      <th>4459</th>\n",
       "      <td>[TITLE] ASX enjoys one of the best years this ...</td>\n",
       "      <td>1</td>\n",
       "    </tr>\n",
       "    <tr>\n",
       "      <th>4460</th>\n",
       "      <td>[TITLE] Manulife Financial fined $1.15 million...</td>\n",
       "      <td>1</td>\n",
       "    </tr>\n",
       "    <tr>\n",
       "      <th>4461</th>\n",
       "      <td>[TITLE] Businesses sue Macquarie over 'scam' [...</td>\n",
       "      <td>1</td>\n",
       "    </tr>\n",
       "  </tbody>\n",
       "</table>\n",
       "<p>4462 rows × 2 columns</p>\n",
       "</div>"
      ],
      "text/plain": [
       "                                                article  label\n",
       "0     [TITLE] Macquarie Group (MQG:AUD129.90) offers...      0\n",
       "1     [TITLE] Magna Announces First Quarter 2020 Fin...      0\n",
       "2     [TITLE] BHP hits hurdle with $31m fine for bre...      0\n",
       "3     [TITLE] Stock Weekly: BHP Group ADR (BHP:$54.1...      0\n",
       "4     [TITLE] Briefing [TITLE] \\n\\nScotiabank also s...      0\n",
       "...                                                 ...    ...\n",
       "4457  [TITLE] Manulife was subject to FINTRAC fine [...      1\n",
       "4458  [TITLE] Big banks face $100m blow as ANZ confe...      1\n",
       "4459  [TITLE] ASX enjoys one of the best years this ...      1\n",
       "4460  [TITLE] Manulife Financial fined $1.15 million...      1\n",
       "4461  [TITLE] Businesses sue Macquarie over 'scam' [...      1\n",
       "\n",
       "[4462 rows x 2 columns]"
      ]
     },
     "execution_count": 11,
     "metadata": {},
     "output_type": "execute_result"
    }
   ],
   "source": [
    "pd.read_csv('../additional_data_high_score.csv.zip')"
   ]
  }
 ],
 "metadata": {
  "kernelspec": {
   "display_name": "Python 3",
   "language": "python",
   "name": "python3"
  },
  "language_info": {
   "codemirror_mode": {
    "name": "ipython",
    "version": 3
   },
   "file_extension": ".py",
   "mimetype": "text/x-python",
   "name": "python",
   "nbconvert_exporter": "python",
   "pygments_lexer": "ipython3",
   "version": "3.8.2"
  }
 },
 "nbformat": 4,
 "nbformat_minor": 4
}
